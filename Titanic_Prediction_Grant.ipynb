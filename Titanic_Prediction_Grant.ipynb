{
 "cells": [
  {
   "cell_type": "markdown",
   "metadata": {},
   "source": [
    "## Imports"
   ]
  },
  {
   "cell_type": "code",
   "execution_count": 1,
   "metadata": {},
   "outputs": [
    {
     "name": "stderr",
     "output_type": "stream",
     "text": [
      "2024-08-25 17:49:13.061282: I tensorflow/core/util/port.cc:110] oneDNN custom operations are on. You may see slightly different numerical results due to floating-point round-off errors from different computation orders. To turn them off, set the environment variable `TF_ENABLE_ONEDNN_OPTS=0`.\n",
      "2024-08-25 17:49:13.098138: I tensorflow/tsl/cuda/cudart_stub.cc:28] Could not find cuda drivers on your machine, GPU will not be used.\n",
      "2024-08-25 17:49:13.290096: I tensorflow/tsl/cuda/cudart_stub.cc:28] Could not find cuda drivers on your machine, GPU will not be used.\n",
      "2024-08-25 17:49:13.291991: I tensorflow/core/platform/cpu_feature_guard.cc:182] This TensorFlow binary is optimized to use available CPU instructions in performance-critical operations.\n",
      "To enable the following instructions: AVX2 AVX_VNNI FMA, in other operations, rebuild TensorFlow with the appropriate compiler flags.\n",
      "2024-08-25 17:49:14.254309: W tensorflow/compiler/tf2tensorrt/utils/py_utils.cc:38] TF-TRT Warning: Could not find TensorRT\n"
     ]
    }
   ],
   "source": [
    "## Basic libraries\n",
    "import numpy as np\n",
    "import pandas as pd\n",
    "\n",
    "## Graphs and visualisation\n",
    "import matplotlib.pyplot as plt\n",
    "import seaborn as sns\n",
    "\n",
    "## Modeling\n",
    "import tensorflow as tf\n",
    "from tensorflow import keras\n",
    "from keras import regularizers\n",
    "from keras.models import Sequential\n",
    "from keras.layers import Activation, Dense, Dropout, InputLayer\n",
    "from sklearn.model_selection import train_test_split\n",
    "from sklearn.metrics import confusion_matrix, classification_report, ConfusionMatrixDisplay\n",
    "from sklearn.metrics import precision_recall_fscore_support"
   ]
  },
  {
   "cell_type": "markdown",
   "metadata": {},
   "source": [
    "## Data import"
   ]
  },
  {
   "cell_type": "code",
   "execution_count": 4,
   "metadata": {},
   "outputs": [],
   "source": [
    "## Create pandas dataframe from data\n",
    "Titanic_DF = pd.read_csv(\"titanic.csv\")"
   ]
  },
  {
   "cell_type": "code",
   "execution_count": 5,
   "metadata": {},
   "outputs": [
    {
     "data": {
      "text/html": [
       "<div>\n",
       "<style scoped>\n",
       "    .dataframe tbody tr th:only-of-type {\n",
       "        vertical-align: middle;\n",
       "    }\n",
       "\n",
       "    .dataframe tbody tr th {\n",
       "        vertical-align: top;\n",
       "    }\n",
       "\n",
       "    .dataframe thead th {\n",
       "        text-align: right;\n",
       "    }\n",
       "</style>\n",
       "<table border=\"1\" class=\"dataframe\">\n",
       "  <thead>\n",
       "    <tr style=\"text-align: right;\">\n",
       "      <th></th>\n",
       "      <th>survived</th>\n",
       "      <th>sex</th>\n",
       "      <th>age</th>\n",
       "      <th>Siblings_Spouses</th>\n",
       "      <th>Parents_children</th>\n",
       "      <th>pclass</th>\n",
       "    </tr>\n",
       "  </thead>\n",
       "  <tbody>\n",
       "    <tr>\n",
       "      <th>0</th>\n",
       "      <td>yes</td>\n",
       "      <td>female</td>\n",
       "      <td>29.0000</td>\n",
       "      <td>0</td>\n",
       "      <td>0</td>\n",
       "      <td>first</td>\n",
       "    </tr>\n",
       "    <tr>\n",
       "      <th>1</th>\n",
       "      <td>yes</td>\n",
       "      <td>male</td>\n",
       "      <td>0.9167</td>\n",
       "      <td>1</td>\n",
       "      <td>2</td>\n",
       "      <td>first</td>\n",
       "    </tr>\n",
       "    <tr>\n",
       "      <th>2</th>\n",
       "      <td>no</td>\n",
       "      <td>female</td>\n",
       "      <td>2.0000</td>\n",
       "      <td>1</td>\n",
       "      <td>2</td>\n",
       "      <td>first</td>\n",
       "    </tr>\n",
       "    <tr>\n",
       "      <th>3</th>\n",
       "      <td>no</td>\n",
       "      <td>male</td>\n",
       "      <td>30.0000</td>\n",
       "      <td>1</td>\n",
       "      <td>2</td>\n",
       "      <td>first</td>\n",
       "    </tr>\n",
       "    <tr>\n",
       "      <th>4</th>\n",
       "      <td>no</td>\n",
       "      <td>female</td>\n",
       "      <td>25.0000</td>\n",
       "      <td>1</td>\n",
       "      <td>2</td>\n",
       "      <td>first</td>\n",
       "    </tr>\n",
       "  </tbody>\n",
       "</table>\n",
       "</div>"
      ],
      "text/plain": [
       "  survived     sex      age  Siblings_Spouses  Parents_children pclass\n",
       "0      yes  female  29.0000                 0                 0  first\n",
       "1      yes    male   0.9167                 1                 2  first\n",
       "2       no  female   2.0000                 1                 2  first\n",
       "3       no    male  30.0000                 1                 2  first\n",
       "4       no  female  25.0000                 1                 2  first"
      ]
     },
     "execution_count": 5,
     "metadata": {},
     "output_type": "execute_result"
    }
   ],
   "source": [
    "## Display data\n",
    "Titanic_DF.head()"
   ]
  },
  {
   "cell_type": "markdown",
   "metadata": {},
   "source": [
    "## Feature engineering"
   ]
  },
  {
   "cell_type": "code",
   "execution_count": 6,
   "metadata": {},
   "outputs": [],
   "source": [
    "## Convert survived to 0 == no, yes == 1\n",
    "Titanic_DF[\"survived\"] = Titanic_DF[\"survived\"].map({\"yes\": 1, \"no\": 0})"
   ]
  },
  {
   "cell_type": "code",
   "execution_count": 7,
   "metadata": {},
   "outputs": [],
   "source": [
    "## Convert sex to female == 0, male == 1\n",
    "Titanic_DF[\"sex\"] = Titanic_DF[\"sex\"].map({\"female\": 0, \"male\": 1})"
   ]
  },
  {
   "cell_type": "code",
   "execution_count": 8,
   "metadata": {},
   "outputs": [],
   "source": [
    "## Convert pclass to first == 1, second == 2, third == 3\n",
    "Titanic_DF[\"pclass\"] = Titanic_DF[\"pclass\"].map({\"first\": 1, \"second\": 2, \"third\": 3})"
   ]
  },
  {
   "cell_type": "code",
   "execution_count": 9,
   "metadata": {},
   "outputs": [
    {
     "data": {
      "text/html": [
       "<div>\n",
       "<style scoped>\n",
       "    .dataframe tbody tr th:only-of-type {\n",
       "        vertical-align: middle;\n",
       "    }\n",
       "\n",
       "    .dataframe tbody tr th {\n",
       "        vertical-align: top;\n",
       "    }\n",
       "\n",
       "    .dataframe thead th {\n",
       "        text-align: right;\n",
       "    }\n",
       "</style>\n",
       "<table border=\"1\" class=\"dataframe\">\n",
       "  <thead>\n",
       "    <tr style=\"text-align: right;\">\n",
       "      <th></th>\n",
       "      <th>survived</th>\n",
       "      <th>sex</th>\n",
       "      <th>age</th>\n",
       "      <th>Siblings_Spouses</th>\n",
       "      <th>Parents_children</th>\n",
       "      <th>pclass</th>\n",
       "    </tr>\n",
       "  </thead>\n",
       "  <tbody>\n",
       "    <tr>\n",
       "      <th>0</th>\n",
       "      <td>1</td>\n",
       "      <td>0</td>\n",
       "      <td>29.0000</td>\n",
       "      <td>0</td>\n",
       "      <td>0</td>\n",
       "      <td>1</td>\n",
       "    </tr>\n",
       "    <tr>\n",
       "      <th>1</th>\n",
       "      <td>1</td>\n",
       "      <td>1</td>\n",
       "      <td>0.9167</td>\n",
       "      <td>1</td>\n",
       "      <td>2</td>\n",
       "      <td>1</td>\n",
       "    </tr>\n",
       "    <tr>\n",
       "      <th>2</th>\n",
       "      <td>0</td>\n",
       "      <td>0</td>\n",
       "      <td>2.0000</td>\n",
       "      <td>1</td>\n",
       "      <td>2</td>\n",
       "      <td>1</td>\n",
       "    </tr>\n",
       "    <tr>\n",
       "      <th>3</th>\n",
       "      <td>0</td>\n",
       "      <td>1</td>\n",
       "      <td>30.0000</td>\n",
       "      <td>1</td>\n",
       "      <td>2</td>\n",
       "      <td>1</td>\n",
       "    </tr>\n",
       "    <tr>\n",
       "      <th>4</th>\n",
       "      <td>0</td>\n",
       "      <td>0</td>\n",
       "      <td>25.0000</td>\n",
       "      <td>1</td>\n",
       "      <td>2</td>\n",
       "      <td>1</td>\n",
       "    </tr>\n",
       "  </tbody>\n",
       "</table>\n",
       "</div>"
      ],
      "text/plain": [
       "   survived  sex      age  Siblings_Spouses  Parents_children  pclass\n",
       "0         1    0  29.0000                 0                 0       1\n",
       "1         1    1   0.9167                 1                 2       1\n",
       "2         0    0   2.0000                 1                 2       1\n",
       "3         0    1  30.0000                 1                 2       1\n",
       "4         0    0  25.0000                 1                 2       1"
      ]
     },
     "execution_count": 9,
     "metadata": {},
     "output_type": "execute_result"
    }
   ],
   "source": [
    "## Print encoded Dataframe\n",
    "Titanic_DF.head()"
   ]
  },
  {
   "cell_type": "code",
   "execution_count": 10,
   "metadata": {},
   "outputs": [],
   "source": [
    "## Asign features data and target data\n",
    "Features_Data = Titanic_DF.drop(columns = \"survived\")\n",
    "Target_Data = Titanic_DF[\"survived\"]"
   ]
  },
  {
   "cell_type": "code",
   "execution_count": 11,
   "metadata": {},
   "outputs": [],
   "source": [
    "# Convert to numpy arrays\n",
    "Features_array = Features_Data.to_numpy()\n",
    "Target_array = Target_Data.to_numpy()"
   ]
  },
  {
   "cell_type": "code",
   "execution_count": 12,
   "metadata": {},
   "outputs": [
    {
     "name": "stdout",
     "output_type": "stream",
     "text": [
      "Training - x:(836, 5) y:(836,)\n",
      "Test     - x:(210, 5)  y:(210,)\n"
     ]
    }
   ],
   "source": [
    "## Split data\n",
    "Features_Train, Features_Test,  Target_Train, Target_Test  = train_test_split(\n",
    "  Features_array, \n",
    "  Target_array, \n",
    "  train_size= 0.8\n",
    ")\n",
    "\n",
    "print(f\"Training - x:{Features_Train.shape} y:{Target_Train.shape}\")\n",
    "print(f\"Test     - x:{Features_Test.shape}  y:{Target_Test.shape}\")"
   ]
  },
  {
   "cell_type": "code",
   "execution_count": 13,
   "metadata": {},
   "outputs": [],
   "source": [
    "# Model Definition\n",
    "def MLP_NN(feature_size, dropout, output_size) -> tf.Tensor:\n",
    "    model = Sequential()\n",
    "    model.add(InputLayer(input_shape = (feature_size,), name = \"Input\"))\n",
    "    model.add(Dense(256, activation= \"relu\"))\n",
    "    model.add(Dropout(dropout))\n",
    "    model.add(Dense(128, activation= \"relu\"))\n",
    "    model.add(Dropout(dropout))               \n",
    "    model.add(Dense(80, activation= \"relu\"))\n",
    "    model.add(Dropout(dropout))\n",
    "    model.add(Dense(30, activation= \"relu\")) \n",
    "    model.add(Dense(output_size, activation = 'sigmoid'))\n",
    "    return model"
   ]
  },
  {
   "cell_type": "code",
   "execution_count": 14,
   "metadata": {},
   "outputs": [],
   "source": [
    "## Create model\n",
    "new_model = MLP_NN(feature_size= (Features_Train.shape[1]), dropout= 0.3, output_size = 1)"
   ]
  },
  {
   "cell_type": "code",
   "execution_count": 15,
   "metadata": {},
   "outputs": [],
   "source": [
    "## Compile model\n",
    "new_model.compile(loss=\"binary_crossentropy\",\n",
    "                optimizer= tf.keras.optimizers.Adam(),\n",
    "                metrics= 'accuracy')"
   ]
  },
  {
   "cell_type": "code",
   "execution_count": 16,
   "metadata": {},
   "outputs": [
    {
     "name": "stdout",
     "output_type": "stream",
     "text": [
      "Epoch 1/50\n",
      "27/27 - 1s - loss: 0.3954 - accuracy: 0.5036 - 650ms/epoch - 24ms/step\n",
      "Epoch 2/50\n",
      "27/27 - 0s - loss: 0.3453 - accuracy: 0.4510 - 72ms/epoch - 3ms/step\n",
      "Epoch 3/50\n",
      "27/27 - 0s - loss: 0.3328 - accuracy: 0.4605 - 72ms/epoch - 3ms/step\n",
      "Epoch 4/50\n",
      "27/27 - 0s - loss: 0.3237 - accuracy: 0.4294 - 67ms/epoch - 2ms/step\n",
      "Epoch 5/50\n",
      "27/27 - 0s - loss: 0.3099 - accuracy: 0.4701 - 64ms/epoch - 2ms/step\n",
      "Epoch 6/50\n",
      "27/27 - 0s - loss: 0.3184 - accuracy: 0.4474 - 58ms/epoch - 2ms/step\n",
      "Epoch 7/50\n",
      "27/27 - 0s - loss: 0.3129 - accuracy: 0.4605 - 65ms/epoch - 2ms/step\n",
      "Epoch 8/50\n",
      "27/27 - 0s - loss: 0.3114 - accuracy: 0.4366 - 58ms/epoch - 2ms/step\n",
      "Epoch 9/50\n",
      "27/27 - 0s - loss: 0.3145 - accuracy: 0.4378 - 68ms/epoch - 3ms/step\n",
      "Epoch 10/50\n",
      "27/27 - 0s - loss: 0.3041 - accuracy: 0.4282 - 67ms/epoch - 2ms/step\n",
      "Epoch 11/50\n",
      "27/27 - 0s - loss: 0.3028 - accuracy: 0.4617 - 59ms/epoch - 2ms/step\n",
      "Epoch 12/50\n",
      "27/27 - 0s - loss: 0.3042 - accuracy: 0.4378 - 57ms/epoch - 2ms/step\n",
      "Epoch 13/50\n",
      "27/27 - 0s - loss: 0.3056 - accuracy: 0.4701 - 73ms/epoch - 3ms/step\n",
      "Epoch 14/50\n",
      "27/27 - 0s - loss: 0.3029 - accuracy: 0.4402 - 61ms/epoch - 2ms/step\n",
      "Epoch 15/50\n",
      "27/27 - 0s - loss: 0.2988 - accuracy: 0.4629 - 67ms/epoch - 2ms/step\n",
      "Epoch 16/50\n",
      "27/27 - 0s - loss: 0.3017 - accuracy: 0.4761 - 63ms/epoch - 2ms/step\n",
      "Epoch 17/50\n",
      "27/27 - 0s - loss: 0.2981 - accuracy: 0.4797 - 55ms/epoch - 2ms/step\n",
      "Epoch 18/50\n",
      "27/27 - 0s - loss: 0.2973 - accuracy: 0.5036 - 62ms/epoch - 2ms/step\n",
      "Epoch 19/50\n",
      "27/27 - 0s - loss: 0.2927 - accuracy: 0.4928 - 56ms/epoch - 2ms/step\n",
      "Epoch 20/50\n",
      "27/27 - 0s - loss: 0.2931 - accuracy: 0.5227 - 53ms/epoch - 2ms/step\n",
      "Epoch 21/50\n",
      "27/27 - 0s - loss: 0.2910 - accuracy: 0.4952 - 61ms/epoch - 2ms/step\n",
      "Epoch 22/50\n",
      "27/27 - 0s - loss: 0.2819 - accuracy: 0.5550 - 73ms/epoch - 3ms/step\n",
      "Epoch 23/50\n",
      "27/27 - 0s - loss: 0.2868 - accuracy: 0.5789 - 56ms/epoch - 2ms/step\n",
      "Epoch 24/50\n",
      "27/27 - 0s - loss: 0.2794 - accuracy: 0.5383 - 56ms/epoch - 2ms/step\n",
      "Epoch 25/50\n",
      "27/27 - 0s - loss: 0.2751 - accuracy: 0.6065 - 59ms/epoch - 2ms/step\n",
      "Epoch 26/50\n",
      "27/27 - 0s - loss: 0.2761 - accuracy: 0.6256 - 61ms/epoch - 2ms/step\n",
      "Epoch 27/50\n",
      "27/27 - 0s - loss: 0.2708 - accuracy: 0.6890 - 57ms/epoch - 2ms/step\n",
      "Epoch 28/50\n",
      "27/27 - 0s - loss: 0.2665 - accuracy: 0.6842 - 56ms/epoch - 2ms/step\n",
      "Epoch 29/50\n",
      "27/27 - 0s - loss: 0.2585 - accuracy: 0.7177 - 58ms/epoch - 2ms/step\n",
      "Epoch 30/50\n",
      "27/27 - 0s - loss: 0.2560 - accuracy: 0.6938 - 69ms/epoch - 3ms/step\n",
      "Epoch 31/50\n",
      "27/27 - 0s - loss: 0.2515 - accuracy: 0.6974 - 80ms/epoch - 3ms/step\n",
      "Epoch 32/50\n",
      "27/27 - 0s - loss: 0.2408 - accuracy: 0.7189 - 65ms/epoch - 2ms/step\n",
      "Epoch 33/50\n",
      "27/27 - 0s - loss: 0.2465 - accuracy: 0.7404 - 56ms/epoch - 2ms/step\n",
      "Epoch 34/50\n",
      "27/27 - 0s - loss: 0.2401 - accuracy: 0.7333 - 57ms/epoch - 2ms/step\n",
      "Epoch 35/50\n",
      "27/27 - 0s - loss: 0.2425 - accuracy: 0.7201 - 54ms/epoch - 2ms/step\n",
      "Epoch 36/50\n",
      "27/27 - 0s - loss: 0.2379 - accuracy: 0.7416 - 56ms/epoch - 2ms/step\n",
      "Epoch 37/50\n",
      "27/27 - 0s - loss: 0.2385 - accuracy: 0.7727 - 55ms/epoch - 2ms/step\n",
      "Epoch 38/50\n",
      "27/27 - 0s - loss: 0.2369 - accuracy: 0.7488 - 70ms/epoch - 3ms/step\n",
      "Epoch 39/50\n",
      "27/27 - 0s - loss: 0.2336 - accuracy: 0.7392 - 85ms/epoch - 3ms/step\n",
      "Epoch 40/50\n",
      "27/27 - 0s - loss: 0.2350 - accuracy: 0.7596 - 76ms/epoch - 3ms/step\n",
      "Epoch 41/50\n",
      "27/27 - 0s - loss: 0.2279 - accuracy: 0.7596 - 53ms/epoch - 2ms/step\n",
      "Epoch 42/50\n",
      "27/27 - 0s - loss: 0.2409 - accuracy: 0.7548 - 58ms/epoch - 2ms/step\n",
      "Epoch 43/50\n",
      "27/27 - 0s - loss: 0.2214 - accuracy: 0.7727 - 53ms/epoch - 2ms/step\n",
      "Epoch 44/50\n",
      "27/27 - 0s - loss: 0.2283 - accuracy: 0.7859 - 52ms/epoch - 2ms/step\n",
      "Epoch 45/50\n",
      "27/27 - 0s - loss: 0.2296 - accuracy: 0.7751 - 52ms/epoch - 2ms/step\n",
      "Epoch 46/50\n",
      "27/27 - 0s - loss: 0.2300 - accuracy: 0.7620 - 54ms/epoch - 2ms/step\n",
      "Epoch 47/50\n",
      "27/27 - 0s - loss: 0.2285 - accuracy: 0.7835 - 60ms/epoch - 2ms/step\n",
      "Epoch 48/50\n",
      "27/27 - 0s - loss: 0.2241 - accuracy: 0.7727 - 54ms/epoch - 2ms/step\n",
      "Epoch 49/50\n",
      "27/27 - 0s - loss: 0.2303 - accuracy: 0.7679 - 63ms/epoch - 2ms/step\n",
      "Epoch 50/50\n",
      "27/27 - 0s - loss: 0.2174 - accuracy: 0.7883 - 54ms/epoch - 2ms/step\n"
     ]
    },
    {
     "data": {
      "text/plain": [
       "<keras.callbacks.History at 0x7fa441b5c820>"
      ]
     },
     "execution_count": 16,
     "metadata": {},
     "output_type": "execute_result"
    }
   ],
   "source": [
    "## Fit data\n",
    "new_model.fit(Features_Train, Target_Train, epochs = 50,class_weight= {0: 0.3, 1:0.7}, verbose = 2)"
   ]
  },
  {
   "cell_type": "markdown",
   "metadata": {},
   "source": [
    "## Model evaluation"
   ]
  },
  {
   "cell_type": "code",
   "execution_count": 17,
   "metadata": {},
   "outputs": [
    {
     "name": "stdout",
     "output_type": "stream",
     "text": [
      "7/7 [==============================] - 0s 2ms/step\n"
     ]
    }
   ],
   "source": [
    "## Obtain test prediction\n",
    "Target_pred = new_model.predict(Features_Test)"
   ]
  },
  {
   "cell_type": "code",
   "execution_count": 18,
   "metadata": {},
   "outputs": [],
   "source": [
    "## Create confusion object\n",
    "confusion = confusion_matrix(Target_Test, Target_pred > 0.5)"
   ]
  },
  {
   "cell_type": "code",
   "execution_count": 19,
   "metadata": {},
   "outputs": [
    {
     "data": {
      "text/plain": [
       "<sklearn.metrics._plot.confusion_matrix.ConfusionMatrixDisplay at 0x7fa441f399c0>"
      ]
     },
     "execution_count": 19,
     "metadata": {},
     "output_type": "execute_result"
    },
    {
     "data": {
      "image/png": "[encoded data removed]",
      "text/plain": [
       "<Figure size 432x288 with 2 Axes>"
      ]
     },
     "metadata": {
      "needs_background": "light"
     },
     "output_type": "display_data"
    }
   ],
   "source": [
    "## Display confusion matrix\n",
    "ConfusionMatrixDisplay(confusion, display_labels= ['Died', 'Survived']).plot()"
   ]
  },
  {
   "cell_type": "code",
   "execution_count": 20,
   "metadata": {},
   "outputs": [
    {
     "name": "stdout",
     "output_type": "stream",
     "text": [
      "Precision: 0.83\n",
      "Recall: 0.74\n",
      "F1 Score: 0.78\n"
     ]
    }
   ],
   "source": [
    "## obtain model performance metrics\n",
    "precision, recall, f1_score, _ = precision_recall_fscore_support(Target_Test, Target_pred > 0.5, average='binary')\n",
    "\n",
    "print(f\"Precision: {precision:.2f}\")\n",
    "print(f\"Recall: {recall:.2f}\")\n",
    "print(f\"F1 Score: {f1_score:.2f}\")"
   ]
  },
  {
   "cell_type": "markdown",
   "metadata": {},
   "source": [
    "## Discussion"
   ]
  },
  {
   "cell_type": "markdown",
   "metadata": {},
   "source": [
    "I have chosen a fully connected multilayer peceptron (MLP) neural network for prediction of titanic survivers. Evaluation of the precision, recall and overall F1 score indicate the model performs satisfactorily for the limited dataset. A precision of 0.83 potentially points to good performance with respect to true positives out of all survived (1) values predicted (i.e. less false positive predictions). A recall value of 0.74 is satisfactory, considering limited data, and points to a high accuracy with respect to predicting survived (1) correctly. The F1 score is a satisfactory value with a balance of precision and recall. I attempted to use class weights due to the slight class imbalance for the survived feature, the class weights should penalise incorrect survived (1) predictions in the loss function and inherently train the model to focus on the minor class (survived). If I increase the penalty, the model would become more biased towards predicting positive cases. This potentially worsens overall performance by reducing the accuracy of predictions (higher recall but lower precision due to more false positives)"
   ]
  }
 ],
 "metadata": {
  "kernelspec": {
   "display_name": "DataScience",
   "language": "python",
   "name": "python3"
  },
  "language_info": {
   "codemirror_mode": {
    "name": "ipython",
    "version": 3
   },
   "file_extension": ".py",
   "mimetype": "text/x-python",
   "name": "python",
   "nbconvert_exporter": "python",
   "pygments_lexer": "ipython3",
   "version": "3.10.5"
  }
 },
 "nbformat": 4,
 "nbformat_minor": 2
}
