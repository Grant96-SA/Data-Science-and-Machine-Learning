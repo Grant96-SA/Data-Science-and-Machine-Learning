{
 "cells": [
  {
   "cell_type": "markdown",
   "metadata": {},
   "source": [
    "## Imports"
   ]
  },
  {
   "cell_type": "code",
   "execution_count": 2,
   "metadata": {},
   "outputs": [],
   "source": [
    "## Basic python libraries\n",
    "import numpy as np\n",
    "import pandas as pd\n",
    "from IPython.display import Image, display\n",
    "\n",
    "## Plotting\n",
    "import matplotlib.pyplot as plt"
   ]
  },
  {
   "cell_type": "markdown",
   "metadata": {},
   "source": [
    "I have decided to take a reinforcement learning approach to the question due to the future reward aspect. My goal is to use Q learning to determine the optimal route from the top of the triangle. Q learning is an off policy reinforcement learning technique using temporal difference (TD).\n",
    "\n",
    "General terms:\n",
    "- A policy is the probability of taking an action given the state the agent is in i.e. a relationship between state and action\n",
    "- An action-value array (Q(state,action)) is an array of actions by state which is an approximation of the expected reward for taking a specific action in a specific state.\n",
    "- Q-learning is off-policy because regardless of the action taken, the action-value array (Q) is updated with respect to the maximum expected future reward for being in the next state. This allows our agent over time to determine the optimal policy regardless if an action didn't return the best possible reward\n",
    "- temporal difference (td) methods update the action value function using step wise updates instead of waiting for the entire reinforcement learning run to complete\n"
   ]
  },
  {
   "cell_type": "code",
   "execution_count": 3,
   "metadata": {},
   "outputs": [
    {
     "data": {
      "image/png": "[encoded data removed]",
      "text/plain": [
       "<IPython.core.display.Image object>"
      ]
     },
     "metadata": {},
     "output_type": "display_data"
    }
   ],
   "source": [
    "# Specify the path to your image\n",
    "image_path = \"path_to_your_image.jpg\"\n",
    "\n",
    "# Display the image\n",
    "display(Image(filename=\"Q_learning_formula.png\"))"
   ]
  },
  {
   "cell_type": "markdown",
   "metadata": {},
   "source": [
    "The above formula is how the action-value array is updated at each step during Q-learning\n",
    "\n",
    "- Alpha represents a learning rate (how large the update to the array should be at each time step)\n",
    "- Gamma represents a discount factor, we weight the future reward less in comparison to the immediate reward received\n",
    "- r(t+1) is the expected reward received after taking the action\n",
    "- Q(st, at) is the action-value for the current state and action\n",
    "- Q(st+1, at) is the action-value for the next state\n",
    "- Temporal difference (TD) target is the estimate of the new state based on the immediate reward (the alpha term multiplied by the positive terms in the bracket)\n",
    "- TD error is the difference TD target and the current estimate for the current state (the update term)"
   ]
  },
  {
   "cell_type": "markdown",
   "metadata": {},
   "source": [
    "## Data Processing"
   ]
  },
  {
   "cell_type": "code",
   "execution_count": 4,
   "metadata": {},
   "outputs": [],
   "source": [
    "## Import triangle\n",
    "Triangle_DF = pd.read_csv(\"triangle.csv\", header=None)"
   ]
  },
  {
   "cell_type": "code",
   "execution_count": 5,
   "metadata": {},
   "outputs": [],
   "source": [
    "## Convert data to numpy array\n",
    "Triangle_array = Triangle_DF.to_numpy()"
   ]
  },
  {
   "cell_type": "code",
   "execution_count": 6,
   "metadata": {},
   "outputs": [
    {
     "name": "stdout",
     "output_type": "stream",
     "text": [
      "[[75. nan nan nan nan nan nan nan nan nan nan nan nan nan nan]\n",
      " [95. 64. nan nan nan nan nan nan nan nan nan nan nan nan nan]\n",
      " [17. 47. 82. nan nan nan nan nan nan nan nan nan nan nan nan]\n",
      " [18. 35. 87. 10. nan nan nan nan nan nan nan nan nan nan nan]\n",
      " [20.  4. 82. 47. 65. nan nan nan nan nan nan nan nan nan nan]\n",
      " [19.  1. 23. 75.  3. 34. nan nan nan nan nan nan nan nan nan]\n",
      " [88.  2. 77. 73.  7. 63. 67. nan nan nan nan nan nan nan nan]\n",
      " [99. 65.  4. 28.  6. 16. 70. 92. nan nan nan nan nan nan nan]\n",
      " [41. 41. 26. 56. 83. 40. 80. 70. 33. nan nan nan nan nan nan]\n",
      " [41. 48. 72. 33. 47. 32. 37. 16. 94. 29. nan nan nan nan nan]\n",
      " [53. 71. 44. 65. 25. 43. 91. 52. 97. 51. 14. nan nan nan nan]\n",
      " [70. 11. 33. 28. 77. 73. 17. 78. 39. 68. 17. 57. nan nan nan]\n",
      " [91. 71. 52. 38. 17. 14. 91. 43. 58. 50. 27. 29. 48. nan nan]\n",
      " [63. 66.  4. 68. 89. 53. 67. 30. 73. 16. 69. 87. 40. 31. nan]\n",
      " [ 4. 62. 98. 27. 23.  9. 70. 98. 73. 93. 38. 53. 60.  4. 23.]]\n"
     ]
    }
   ],
   "source": [
    "## print numpy array\n",
    "print(Triangle_array)"
   ]
  },
  {
   "cell_type": "code",
   "execution_count": 7,
   "metadata": {},
   "outputs": [],
   "source": [
    "# Remove NaN values and convert each row to a list\n",
    "Triangle = [row[~np.isnan(row)].tolist() for row in Triangle_array]"
   ]
  },
  {
   "cell_type": "code",
   "execution_count": 8,
   "metadata": {},
   "outputs": [
    {
     "name": "stdout",
     "output_type": "stream",
     "text": [
      "[[75.0], [95.0, 64.0], [17.0, 47.0, 82.0], [18.0, 35.0, 87.0, 10.0], [20.0, 4.0, 82.0, 47.0, 65.0], [19.0, 1.0, 23.0, 75.0, 3.0, 34.0], [88.0, 2.0, 77.0, 73.0, 7.0, 63.0, 67.0], [99.0, 65.0, 4.0, 28.0, 6.0, 16.0, 70.0, 92.0], [41.0, 41.0, 26.0, 56.0, 83.0, 40.0, 80.0, 70.0, 33.0], [41.0, 48.0, 72.0, 33.0, 47.0, 32.0, 37.0, 16.0, 94.0, 29.0], [53.0, 71.0, 44.0, 65.0, 25.0, 43.0, 91.0, 52.0, 97.0, 51.0, 14.0], [70.0, 11.0, 33.0, 28.0, 77.0, 73.0, 17.0, 78.0, 39.0, 68.0, 17.0, 57.0], [91.0, 71.0, 52.0, 38.0, 17.0, 14.0, 91.0, 43.0, 58.0, 50.0, 27.0, 29.0, 48.0], [63.0, 66.0, 4.0, 68.0, 89.0, 53.0, 67.0, 30.0, 73.0, 16.0, 69.0, 87.0, 40.0, 31.0], [4.0, 62.0, 98.0, 27.0, 23.0, 9.0, 70.0, 98.0, 73.0, 93.0, 38.0, 53.0, 60.0, 4.0, 23.0]]\n"
     ]
    }
   ],
   "source": [
    "## Triangle is now a list of lists, with each list being a row from the triangle\n",
    "print(Triangle)"
   ]
  },
  {
   "cell_type": "code",
   "execution_count": 9,
   "metadata": {},
   "outputs": [],
   "source": [
    "# print(len(Triangle[-1]))"
   ]
  },
  {
   "cell_type": "markdown",
   "metadata": {},
   "source": [
    "In reinforcement learning we need to define an environment. It's purpose being to change the agent state given an action as well as returning a reward. For my case the reward is value of the specified route. Below is my Triangle Environment class"
   ]
  },
  {
   "cell_type": "code",
   "execution_count": 10,
   "metadata": {},
   "outputs": [],
   "source": [
    "class TriangleEnv:\n",
    "    def __init__(self, Triangle_Rewards):\n",
    "        # Triangle properties\n",
    "        self.reward_values = Triangle_Rewards ## Reward values from Triangle list of lists\n",
    "        self.rows = len(Triangle)  # Number of rows in the triangle\n",
    "        self.current_state = (0, 0)  # Starting state (i.e. top of triangle)\n",
    "        self.terminal_states = self.rows - 1  # Terminal state row index\n",
    "        self.actions = [\"Down-Left\", \"Down-Right\"]  # Possible actions\n",
    "\n",
    "        ## Initialise current state to top\n",
    "        self.current_state = (0,0)\n",
    "\n",
    "    def get_reward(self, state):\n",
    "        \"\"\"Returns the reward for a given state.\"\"\"\n",
    "\n",
    "        ## Obtain reward value for being in state\n",
    "        return self.reward_values[state[0]][state[1]]\n",
    "\n",
    "    def make_step(self, action):\n",
    "        \"\"\"Moves the agent in the specified direction and returns the new state and reward.\"\"\"\n",
    "\n",
    "        ## Assign current state\n",
    "        row, col = self.current_state\n",
    "\n",
    "        ## Move state if Down-Left\n",
    "        if action == \"Down-Left\":\n",
    "            new_state = (row + 1, col)\n",
    "        ## Move state if Down-Right\n",
    "        elif action == \"Down-Right\":\n",
    "            new_state = (row + 1, col + 1)\n",
    "\n",
    "        ## Assign new state to current state\n",
    "        self.current_state = new_state\n",
    "\n",
    "\n",
    "        ## Obtain new state reward\n",
    "        reward = self.get_reward(new_state)\n",
    "            \n",
    "        return self.current_state, reward\n",
    "\n",
    "    def check_state(self):\n",
    "        \"\"\"Check if the agent is in a terminal state.\"\"\"\n",
    "        if self.current_state[0] == self.terminal_states:\n",
    "            return \"TERMINAL\"\n",
    "        return \"NOT TERMINAL\""
   ]
  },
  {
   "cell_type": "markdown",
   "metadata": {},
   "source": [
    "We define the Q learning agent which chooses an action given a state (follows a policy) and then updates the action-value space using the Q-learning formula. The policy below utilises epsilon greedy, the policy will randomly follow an action if our randomly selected variable is below a threshold (epsilon greedy). We will randomly draw a value between 0 and 1 and if it's less than epsilon we will randomly select an action. If it is greater we choose the greediest action with respect to expected reward i.e. the argmax of Q(state, action)"
   ]
  },
  {
   "cell_type": "markdown",
   "metadata": {},
   "source": [
    "## Q Learning Agent"
   ]
  },
  {
   "cell_type": "code",
   "execution_count": 11,
   "metadata": {},
   "outputs": [],
   "source": [
    "class QLearningAgent:\n",
    "    def __init__(self, num_steps = 15, num_actions = 2, alpha=0.1, gamma=0.9, epsilon=0.3):\n",
    "        ## Agent properties\n",
    "        self.num_actions = num_actions # Number of actions i.e. two\n",
    "        self.rows = num_steps # number of triangle rows\n",
    "        self.alpha = alpha # Learning rate\n",
    "        self.gamma = gamma # Future reward discount factor\n",
    "        self.epsilon = epsilon # Epsilon greedy parameter for taking random action\n",
    "        self.q_values = [] # action value array\n",
    "\n",
    "        ## Create q_value list of Q value arrays corresponding to each row\n",
    "        for idx in range(self.rows):\n",
    "            self.q_values.append(np.zeros((idx + 1, num_actions))) # state x actions\n",
    "\n",
    "        ## Random q_value initialisation\n",
    "        self.q_values = [np.random.rand(i + 1, num_actions) * 0.01 for i in range(self.rows)]  # Small random values\n",
    "\n",
    "    def choose_action(self, state):\n",
    "        \"\"\"Choose an action based on the epsilon-greedy policy.\"\"\"\n",
    "\n",
    "        ## obtain state\n",
    "        row, col = state\n",
    "        ## Choose a random action if random number is less than epsilon\n",
    "        if np.random.uniform(0, 1) < self.epsilon:\n",
    "            return np.random.choice(self.num_actions)  # Explore: random action\n",
    "        \n",
    "        ## Choose action based on the argmax of the current state (greedy action)\n",
    "        else:\n",
    "            return np.argmax(self.q_values[row][col])\n",
    "\n",
    "    def learn(self, state, action, reward, next_state):\n",
    "        \"\"\"Update the Q-value for the given state-action pair.\"\"\"\n",
    "        ## obtain current and next state\n",
    "        row, col = state\n",
    "        next_row, next_col = next_state\n",
    "\n",
    "        ## Determine the maximum Q-value for the next state (already chosen by the action)\n",
    "        max_next_q_value = np.max(self.q_values[next_row][next_col])\n",
    "\n",
    "        ## Calculate the TD target\n",
    "        td_target = reward + self.gamma * max_next_q_value\n",
    "\n",
    "        ## Calculate the TD error\n",
    "        td_error = td_target - self.q_values[row][col][action]\n",
    "\n",
    "        ## Update the Q-value for the current state-action pair\n",
    "        self.q_values[row][col][action] += self.alpha * td_error\n",
    "\n",
    "    def epsilon_change(self, epsilon_value):\n",
    "        self.epsilon = epsilon_value"
   ]
  },
  {
   "cell_type": "markdown",
   "metadata": {},
   "source": [
    "Next we define the experiment "
   ]
  },
  {
   "cell_type": "code",
   "execution_count": 12,
   "metadata": {},
   "outputs": [],
   "source": [
    "def play(environment, agent, trials=1000):\n",
    "    \"\"\"The play function runs iterations and updates Q-values.\"\"\"\n",
    "    reward_per_episode = []  # Initialize performance log\n",
    "\n",
    "    for trial in range(trials):  # Run trials\n",
    "        cumulative_reward = environment.reward_values[0][0]  # Initialize the cumulative reward for the episode\n",
    "        max_steps_per_episode = environment.rows ## max steps per episode\n",
    "        step = 0\n",
    "        Terminal = False ## for terminating experiment\n",
    "\n",
    "        # Reset the environment to the initial state for each trial\n",
    "        environment.current_state = (0, 0)\n",
    "\n",
    "        # Decrease exploration\n",
    "        if trial == np.round(0.3*trials):\n",
    "            agent.epsilon_change(0.05)\n",
    "\n",
    "        while step < max_steps_per_episode and not Terminal:  # Run until max steps or terminal state\n",
    "            old_state = environment.current_state  # Store the old state\n",
    "\n",
    "            # Choose the next action from the agent\n",
    "            action = agent.choose_action(old_state)\n",
    "    \n",
    "            # Gain reward feedback and new state from taking action in the environment\n",
    "            new_state, reward = environment.make_step(environment.actions[action])\n",
    "            \n",
    "            # Update Q-values \n",
    "            agent.learn(old_state, action, reward, new_state)\n",
    "\n",
    "            # Accumulate the reward\n",
    "            cumulative_reward += reward\n",
    "            \n",
    "            # Increment step\n",
    "            step += 1\n",
    "\n",
    "            # Check if the environment is in a terminal state\n",
    "            if environment.check_state() == \"TERMINAL\":\n",
    "                Terminal = True       \n",
    "\n",
    "        # Append the reward for the current trial to the performance log\n",
    "        reward_per_episode.append(cumulative_reward)\n",
    "\n",
    "    return reward_per_episode  # Return performance log"
   ]
  },
  {
   "cell_type": "code",
   "execution_count": 22,
   "metadata": {},
   "outputs": [
    {
     "name": "stdout",
     "output_type": "stream",
     "text": [
      "The max reward is 1074.0, It took 719 runs to obtain maximum reward\n",
      "The max route was chosen: 5050 times\n"
     ]
    }
   ],
   "source": [
    "## Define environment\n",
    "env = TriangleEnv(Triangle) ## Pass list of lists\n",
    "\n",
    "## Define agent\n",
    "agent = QLearningAgent(env.rows)\n",
    "\n",
    "## Play game\n",
    "reward_per_trials = play(environment= env, agent = agent, trials=10000)\n",
    "\n",
    "max_reward = np.max(reward_per_trials) ## get max\n",
    "Run_to_Max = np.argmax(reward_per_trials == max_reward) ## how long did it take to get max\n",
    "\n",
    "max_count = np.sum(np.array(reward_per_trials) == max_reward)\n",
    "print(f\"The max reward is {max_reward}, It took {Run_to_Max} runs to obtain maximum reward\")\n",
    "print(f\"The max route was chosen: {max_count} times\")"
   ]
  },
  {
   "cell_type": "markdown",
   "metadata": {},
   "source": [
    "The maximum value obtained is 1074, once the agent discovers the optimal route we observe roughly half the experiments obtain the maximum reward"
   ]
  }
 ],
 "metadata": {
  "kernelspec": {
   "display_name": "DataScience",
   "language": "python",
   "name": "python3"
  },
  "language_info": {
   "codemirror_mode": {
    "name": "ipython",
    "version": 3
   },
   "file_extension": ".py",
   "mimetype": "text/x-python",
   "name": "python",
   "nbconvert_exporter": "python",
   "pygments_lexer": "ipython3",
   "version": "3.10.5"
  }
 },
 "nbformat": 4,
 "nbformat_minor": 2
}
