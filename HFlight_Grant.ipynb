{
 "cells": [
  {
   "cell_type": "markdown",
   "metadata": {},
   "source": [
    "## Imports "
   ]
  },
  {
   "cell_type": "code",
   "execution_count": 1,
   "metadata": {},
   "outputs": [],
   "source": [
    "## Standard Libraries\n",
    "import numpy as np\n",
    "import pandas as pd\n",
    "\n",
    "## Plotting \n",
    "import matplotlib.pyplot as plt\n",
    "import seaborn as sns"
   ]
  },
  {
   "cell_type": "code",
   "execution_count": 2,
   "metadata": {},
   "outputs": [],
   "source": [
    "## Read csv on github\n",
    "## The function input requires the raw data url \n",
    "HFlight_DF = pd.read_csv(\"https://raw.githubusercontent.com/selva86/datasets/master/hflights.csv\")"
   ]
  },
  {
   "cell_type": "code",
   "execution_count": 3,
   "metadata": {},
   "outputs": [
    {
     "data": {
      "text/html": [
       "<div>\n",
       "<style scoped>\n",
       "    .dataframe tbody tr th:only-of-type {\n",
       "        vertical-align: middle;\n",
       "    }\n",
       "\n",
       "    .dataframe tbody tr th {\n",
       "        vertical-align: top;\n",
       "    }\n",
       "\n",
       "    .dataframe thead th {\n",
       "        text-align: right;\n",
       "    }\n",
       "</style>\n",
       "<table border=\"1\" class=\"dataframe\">\n",
       "  <thead>\n",
       "    <tr style=\"text-align: right;\">\n",
       "      <th></th>\n",
       "      <th>Year</th>\n",
       "      <th>Month</th>\n",
       "      <th>DayofMonth</th>\n",
       "      <th>DayOfWeek</th>\n",
       "      <th>DepTime</th>\n",
       "      <th>ArrTime</th>\n",
       "      <th>UniqueCarrier</th>\n",
       "      <th>FlightNum</th>\n",
       "      <th>TailNum</th>\n",
       "      <th>ActualElapsedTime</th>\n",
       "      <th>...</th>\n",
       "      <th>ArrDelay</th>\n",
       "      <th>DepDelay</th>\n",
       "      <th>Origin</th>\n",
       "      <th>Dest</th>\n",
       "      <th>Distance</th>\n",
       "      <th>TaxiIn</th>\n",
       "      <th>TaxiOut</th>\n",
       "      <th>Cancelled</th>\n",
       "      <th>CancellationCode</th>\n",
       "      <th>Diverted</th>\n",
       "    </tr>\n",
       "  </thead>\n",
       "  <tbody>\n",
       "    <tr>\n",
       "      <th>0</th>\n",
       "      <td>2011</td>\n",
       "      <td>1</td>\n",
       "      <td>1</td>\n",
       "      <td>6</td>\n",
       "      <td>1400.0</td>\n",
       "      <td>1500.0</td>\n",
       "      <td>AA</td>\n",
       "      <td>428</td>\n",
       "      <td>N576AA</td>\n",
       "      <td>60.0</td>\n",
       "      <td>...</td>\n",
       "      <td>-10.0</td>\n",
       "      <td>0.0</td>\n",
       "      <td>IAH</td>\n",
       "      <td>DFW</td>\n",
       "      <td>224</td>\n",
       "      <td>7.0</td>\n",
       "      <td>13.0</td>\n",
       "      <td>0</td>\n",
       "      <td>NaN</td>\n",
       "      <td>0</td>\n",
       "    </tr>\n",
       "    <tr>\n",
       "      <th>1</th>\n",
       "      <td>2011</td>\n",
       "      <td>1</td>\n",
       "      <td>2</td>\n",
       "      <td>7</td>\n",
       "      <td>1401.0</td>\n",
       "      <td>1501.0</td>\n",
       "      <td>AA</td>\n",
       "      <td>428</td>\n",
       "      <td>N557AA</td>\n",
       "      <td>60.0</td>\n",
       "      <td>...</td>\n",
       "      <td>-9.0</td>\n",
       "      <td>1.0</td>\n",
       "      <td>IAH</td>\n",
       "      <td>DFW</td>\n",
       "      <td>224</td>\n",
       "      <td>6.0</td>\n",
       "      <td>9.0</td>\n",
       "      <td>0</td>\n",
       "      <td>NaN</td>\n",
       "      <td>0</td>\n",
       "    </tr>\n",
       "    <tr>\n",
       "      <th>2</th>\n",
       "      <td>2011</td>\n",
       "      <td>1</td>\n",
       "      <td>3</td>\n",
       "      <td>1</td>\n",
       "      <td>1352.0</td>\n",
       "      <td>1502.0</td>\n",
       "      <td>AA</td>\n",
       "      <td>428</td>\n",
       "      <td>N541AA</td>\n",
       "      <td>70.0</td>\n",
       "      <td>...</td>\n",
       "      <td>-8.0</td>\n",
       "      <td>-8.0</td>\n",
       "      <td>IAH</td>\n",
       "      <td>DFW</td>\n",
       "      <td>224</td>\n",
       "      <td>5.0</td>\n",
       "      <td>17.0</td>\n",
       "      <td>0</td>\n",
       "      <td>NaN</td>\n",
       "      <td>0</td>\n",
       "    </tr>\n",
       "    <tr>\n",
       "      <th>3</th>\n",
       "      <td>2011</td>\n",
       "      <td>1</td>\n",
       "      <td>4</td>\n",
       "      <td>2</td>\n",
       "      <td>1403.0</td>\n",
       "      <td>1513.0</td>\n",
       "      <td>AA</td>\n",
       "      <td>428</td>\n",
       "      <td>N403AA</td>\n",
       "      <td>70.0</td>\n",
       "      <td>...</td>\n",
       "      <td>3.0</td>\n",
       "      <td>3.0</td>\n",
       "      <td>IAH</td>\n",
       "      <td>DFW</td>\n",
       "      <td>224</td>\n",
       "      <td>9.0</td>\n",
       "      <td>22.0</td>\n",
       "      <td>0</td>\n",
       "      <td>NaN</td>\n",
       "      <td>0</td>\n",
       "    </tr>\n",
       "    <tr>\n",
       "      <th>4</th>\n",
       "      <td>2011</td>\n",
       "      <td>1</td>\n",
       "      <td>5</td>\n",
       "      <td>3</td>\n",
       "      <td>1405.0</td>\n",
       "      <td>1507.0</td>\n",
       "      <td>AA</td>\n",
       "      <td>428</td>\n",
       "      <td>N492AA</td>\n",
       "      <td>62.0</td>\n",
       "      <td>...</td>\n",
       "      <td>-3.0</td>\n",
       "      <td>5.0</td>\n",
       "      <td>IAH</td>\n",
       "      <td>DFW</td>\n",
       "      <td>224</td>\n",
       "      <td>9.0</td>\n",
       "      <td>9.0</td>\n",
       "      <td>0</td>\n",
       "      <td>NaN</td>\n",
       "      <td>0</td>\n",
       "    </tr>\n",
       "  </tbody>\n",
       "</table>\n",
       "<p>5 rows × 21 columns</p>\n",
       "</div>"
      ],
      "text/plain": [
       "   Year  Month  DayofMonth  DayOfWeek  DepTime  ArrTime UniqueCarrier  \\\n",
       "0  2011      1           1          6   1400.0   1500.0            AA   \n",
       "1  2011      1           2          7   1401.0   1501.0            AA   \n",
       "2  2011      1           3          1   1352.0   1502.0            AA   \n",
       "3  2011      1           4          2   1403.0   1513.0            AA   \n",
       "4  2011      1           5          3   1405.0   1507.0            AA   \n",
       "\n",
       "   FlightNum TailNum  ActualElapsedTime  ...  ArrDelay  DepDelay  Origin Dest  \\\n",
       "0        428  N576AA               60.0  ...     -10.0       0.0     IAH  DFW   \n",
       "1        428  N557AA               60.0  ...      -9.0       1.0     IAH  DFW   \n",
       "2        428  N541AA               70.0  ...      -8.0      -8.0     IAH  DFW   \n",
       "3        428  N403AA               70.0  ...       3.0       3.0     IAH  DFW   \n",
       "4        428  N492AA               62.0  ...      -3.0       5.0     IAH  DFW   \n",
       "\n",
       "  Distance  TaxiIn  TaxiOut  Cancelled  CancellationCode Diverted  \n",
       "0      224     7.0     13.0          0               NaN        0  \n",
       "1      224     6.0      9.0          0               NaN        0  \n",
       "2      224     5.0     17.0          0               NaN        0  \n",
       "3      224     9.0     22.0          0               NaN        0  \n",
       "4      224     9.0      9.0          0               NaN        0  \n",
       "\n",
       "[5 rows x 21 columns]"
      ]
     },
     "execution_count": 3,
     "metadata": {},
     "output_type": "execute_result"
    }
   ],
   "source": [
    "## Display HFlight data set\n",
    "HFlight_DF.head()"
   ]
  },
  {
   "cell_type": "code",
   "execution_count": 4,
   "metadata": {},
   "outputs": [
    {
     "data": {
      "text/plain": [
       "Year                      0\n",
       "Month                     0\n",
       "DayofMonth                0\n",
       "DayOfWeek                 0\n",
       "DepTime                2905\n",
       "ArrTime                3066\n",
       "UniqueCarrier             0\n",
       "FlightNum                 0\n",
       "TailNum                 795\n",
       "ActualElapsedTime      3622\n",
       "AirTime                3622\n",
       "ArrDelay               3622\n",
       "DepDelay               2905\n",
       "Origin                    0\n",
       "Dest                      0\n",
       "Distance                  0\n",
       "TaxiIn                 3066\n",
       "TaxiOut                2947\n",
       "Cancelled                 0\n",
       "CancellationCode     224523\n",
       "Diverted                  0\n",
       "dtype: int64"
      ]
     },
     "execution_count": 4,
     "metadata": {},
     "output_type": "execute_result"
    }
   ],
   "source": [
    "## Check for null values\n",
    "HFlight_DF.isnull().sum()"
   ]
  },
  {
   "cell_type": "code",
   "execution_count": 42,
   "metadata": {},
   "outputs": [],
   "source": [
    "## Remove null values\n",
    "# HFlight_DF = HFlight_DF.dropna()"
   ]
  },
  {
   "cell_type": "code",
   "execution_count": 5,
   "metadata": {},
   "outputs": [
    {
     "name": "stdout",
     "output_type": "stream",
     "text": [
      "['AA' 'AS' 'B6' 'CO' 'DL' 'OO' 'UA' 'US' 'WN' 'EV' 'F9' 'FL' 'MQ' 'XE'\n",
      " 'YV']\n"
     ]
    }
   ],
   "source": [
    "## Print amount of unique carriers using unique function\n",
    "Unique_Carriers = HFlight_DF[\"UniqueCarrier\"].unique()\n",
    "print(Unique_Carriers)"
   ]
  },
  {
   "cell_type": "code",
   "execution_count": 6,
   "metadata": {},
   "outputs": [],
   "source": [
    "## Drop null values in DepDelay and Unique Carrier\n",
    "HFlight_temp = HFlight_DF.dropna(subset=[\"DepDelay\", \"UniqueCarrier\"])\n",
    "## Filter dataframe rows for DepDelay values less than 60mins\n",
    "HFlight_filtered = HFlight_temp[HFlight_temp[\"DepDelay\"] < 60]"
   ]
  },
  {
   "cell_type": "code",
   "execution_count": 7,
   "metadata": {},
   "outputs": [
    {
     "name": "stdout",
     "output_type": "stream",
     "text": [
      "UniqueCarrier\n",
      "AA    1.898862\n",
      "AS    1.188732\n",
      "B6    1.622549\n",
      "CO    5.082625\n",
      "DL    2.417542\n",
      "EV    1.460195\n",
      "F9    1.703106\n",
      "FL   -0.304028\n",
      "MQ    2.648315\n",
      "OO    3.728818\n",
      "UA    4.604797\n",
      "US   -1.436849\n",
      "WN    8.139336\n",
      "XE    2.634186\n",
      "YV    1.538462\n",
      "Name: DepDelay, dtype: float64\n"
     ]
    }
   ],
   "source": [
    "## Group by Unique Carrier, Take Dep Delay column and obtain mean values\n",
    "average_DepDelay = HFlight_filtered.groupby(\"UniqueCarrier\")[\"DepDelay\"].mean()\n",
    "print(average_DepDelay)"
   ]
  },
  {
   "cell_type": "code",
   "execution_count": 8,
   "metadata": {},
   "outputs": [],
   "source": [
    "## Reset group by index\n",
    "average_DepDelay = average_DepDelay.reset_index()"
   ]
  },
  {
   "cell_type": "code",
   "execution_count": 9,
   "metadata": {},
   "outputs": [
    {
     "name": "stdout",
     "output_type": "stream",
     "text": [
      "   UniqueCarrier  DepDelay\n",
      "0             AA  1.898862\n",
      "1             AS  1.188732\n",
      "2             B6  1.622549\n",
      "3             CO  5.082625\n",
      "4             DL  2.417542\n",
      "5             EV  1.460195\n",
      "6             F9  1.703106\n",
      "7             FL -0.304028\n",
      "8             MQ  2.648315\n",
      "9             OO  3.728818\n",
      "10            UA  4.604797\n",
      "11            US -1.436849\n",
      "12            WN  8.139336\n",
      "13            XE  2.634186\n",
      "14            YV  1.538462\n"
     ]
    }
   ],
   "source": [
    "## Display average departure delay per carrier\n",
    "print(average_DepDelay)"
   ]
  },
  {
   "cell_type": "code",
   "execution_count": 10,
   "metadata": {},
   "outputs": [
    {
     "data": {
      "image/png": "[encoded data removed]",
      "text/plain": [
       "<Figure size 864x432 with 1 Axes>"
      ]
     },
     "metadata": {
      "needs_background": "light"
     },
     "output_type": "display_data"
    }
   ],
   "source": [
    "# Create a boxplot\n",
    "\n",
    "plt.figure(figsize=(12, 6))\n",
    "plt.bar(average_DepDelay[\"UniqueCarrier\"], average_DepDelay[\"DepDelay\"], color=\"blue\", label=\"Bar Plot\")\n",
    "plt.title(\"Box plot of Average Departure Delay per Carrier\")\n",
    "plt.xlabel(\"Carrier\")\n",
    "plt.ylabel(\"Average Departure Delay (minutes)\")\n",
    "plt.grid(True)\n",
    "plt.show()"
   ]
  },
  {
   "cell_type": "markdown",
   "metadata": {},
   "source": [
    "From the departure delay data we observe that the best airline carrier was US due to the lowest average departure delay of -1.46 minutes indicating an average early departure. The worst performing airline carrier was WN with an average departure delay of 8.14 minutes "
   ]
  },
  {
   "cell_type": "markdown",
   "metadata": {},
   "source": [
    "## Determining median values between WN and US"
   ]
  },
  {
   "cell_type": "code",
   "execution_count": 64,
   "metadata": {},
   "outputs": [],
   "source": [
    "# ## Filter HFlight_temp dataframe unique carrier values to WN and US\n",
    "# HFlight_temp_2 = HFlight_temp[HFlight_temp[\"UniqueCarrier\"].isin([\"WN, US\"])]\n",
    "# ## Filter departure delay to below 60mins\n",
    "# HFlight_filtered = HFlight_temp_2[HFlight_temp_2[\"DepDelay\"] < 60]\n",
    "# ## Group by Unique Carrier and obtain median departure delay\n",
    "# Median_DepDelay = HFlight_filtered.groupby(\"UniqueCarrier\")[\"DepDelay\"].median()"
   ]
  },
  {
   "cell_type": "code",
   "execution_count": 65,
   "metadata": {},
   "outputs": [
    {
     "name": "stdout",
     "output_type": "stream",
     "text": [
      "Series([], Name: DepDelay, dtype: float64)\n"
     ]
    }
   ],
   "source": [
    "# print(Median_DepDelay)"
   ]
  },
  {
   "cell_type": "code",
   "execution_count": 13,
   "metadata": {},
   "outputs": [
    {
     "name": "stdout",
     "output_type": "stream",
     "text": [
      "WN median departure delay is 3.0 minutes\n"
     ]
    }
   ],
   "source": [
    "## Filter HFlight_temp dataframe unique carrier values to WN\n",
    "HFlight_temp_3 = HFlight_temp[HFlight_temp[\"UniqueCarrier\"] == \"WN\"]\n",
    "## Filter departure delay to below 60mins\n",
    "HFlight_filtered = HFlight_temp_3[HFlight_temp_3[\"DepDelay\"] < 60]\n",
    "## Group by Unique Carrier and obtain median departure delay\n",
    "Median_DepDelay = HFlight_filtered.groupby(\"UniqueCarrier\")[\"DepDelay\"].median()\n",
    "\n",
    "print(f\"WN median departure delay is {Median_DepDelay[0]} minutes\")"
   ]
  },
  {
   "cell_type": "code",
   "execution_count": 15,
   "metadata": {},
   "outputs": [
    {
     "name": "stdout",
     "output_type": "stream",
     "text": [
      "WN median departure delay is -4.0 minutes\n"
     ]
    }
   ],
   "source": [
    "## Filter HFlight_temp dataframe unique carrier values to US\n",
    "HFlight_temp_4 = HFlight_temp[HFlight_temp[\"UniqueCarrier\"] == \"US\"]\n",
    "## Filter departure delay to below 60mins\n",
    "HFlight_filtered = HFlight_temp_4[HFlight_temp_4[\"DepDelay\"] < 60]\n",
    "## Group by Unique Carrier and obtain median departure delay\n",
    "Median_DepDelay = HFlight_filtered.groupby(\"UniqueCarrier\")[\"DepDelay\"].median()\n",
    "\n",
    "print(f\"WN median departure delay is {Median_DepDelay[0]} minutes i.e. Early Departure of 4 mins\")"
   ]
  }
 ],
 "metadata": {
  "kernelspec": {
   "display_name": "DataScience",
   "language": "python",
   "name": "python3"
  },
  "language_info": {
   "codemirror_mode": {
    "name": "ipython",
    "version": 3
   },
   "file_extension": ".py",
   "mimetype": "text/x-python",
   "name": "python",
   "nbconvert_exporter": "python",
   "pygments_lexer": "ipython3",
   "version": "3.10.5"
  }
 },
 "nbformat": 4,
 "nbformat_minor": 2
}
