{
 "cells": [
  {
   "cell_type": "markdown",
   "metadata": {},
   "source": [
    "The Aim of the following script is to create a model to predict Inca Tribe House Prices"
   ]
  },
  {
   "cell_type": "markdown",
   "metadata": {},
   "source": [
    "## Imports"
   ]
  },
  {
   "cell_type": "code",
   "execution_count": 134,
   "metadata": {},
   "outputs": [],
   "source": [
    "import numpy as np\n",
    "import pandas as pd\n",
    "\n",
    "from sklearn.linear_model import LinearRegression\n",
    "\n",
    "## Sklearn libraries\n",
    "from sklearn.model_selection import train_test_split \n",
    "from sklearn.metrics import mean_absolute_error, r2_score,  mean_squared_error, mean_absolute_percentage_error\n",
    "from sklearn.preprocessing import StandardScaler\n",
    "\n",
    "from xgboost import XGBRegressor\n",
    "\n",
    "import category_encoders"
   ]
  },
  {
   "cell_type": "markdown",
   "metadata": {},
   "source": [
    "## Import Data"
   ]
  },
  {
   "cell_type": "code",
   "execution_count": 135,
   "metadata": {},
   "outputs": [],
   "source": [
    "## Read CSV to pandas dataframe\n",
    "Data = pd.read_csv(\"Inca Tribe House Prices.csv\")"
   ]
  },
  {
   "cell_type": "code",
   "execution_count": 136,
   "metadata": {},
   "outputs": [
    {
     "data": {
      "text/html": [
       "<div>\n",
       "<style scoped>\n",
       "    .dataframe tbody tr th:only-of-type {\n",
       "        vertical-align: middle;\n",
       "    }\n",
       "\n",
       "    .dataframe tbody tr th {\n",
       "        vertical-align: top;\n",
       "    }\n",
       "\n",
       "    .dataframe thead th {\n",
       "        text-align: right;\n",
       "    }\n",
       "</style>\n",
       "<table border=\"1\" class=\"dataframe\">\n",
       "  <thead>\n",
       "    <tr style=\"text-align: right;\">\n",
       "      <th></th>\n",
       "      <th>Type</th>\n",
       "      <th>Price</th>\n",
       "      <th>Bedrooms</th>\n",
       "      <th>Bathrooms</th>\n",
       "      <th>Area</th>\n",
       "      <th>Furnished</th>\n",
       "      <th>Level</th>\n",
       "      <th>Compound</th>\n",
       "      <th>Payment_Option</th>\n",
       "      <th>Delivery_Date</th>\n",
       "      <th>Delivery_Term</th>\n",
       "      <th>City</th>\n",
       "    </tr>\n",
       "  </thead>\n",
       "  <tbody>\n",
       "    <tr>\n",
       "      <th>0</th>\n",
       "      <td>Chalet</td>\n",
       "      <td>70000</td>\n",
       "      <td>2.0</td>\n",
       "      <td>2.0</td>\n",
       "      <td>10.0</td>\n",
       "      <td>Yes</td>\n",
       "      <td>Unknown</td>\n",
       "      <td>Fanar De Luna</td>\n",
       "      <td>Cash</td>\n",
       "      <td>Ready to move</td>\n",
       "      <td>Finished</td>\n",
       "      <td>Ain Sukhna</td>\n",
       "    </tr>\n",
       "    <tr>\n",
       "      <th>1</th>\n",
       "      <td>Apartment</td>\n",
       "      <td>1500000</td>\n",
       "      <td>3.0</td>\n",
       "      <td>3.0</td>\n",
       "      <td>10.0</td>\n",
       "      <td>No</td>\n",
       "      <td>4</td>\n",
       "      <td>Unknown</td>\n",
       "      <td>Unknown Payment</td>\n",
       "      <td>Ready to move</td>\n",
       "      <td>Unknown</td>\n",
       "      <td>New Hut - El Tagamoa</td>\n",
       "    </tr>\n",
       "    <tr>\n",
       "      <th>2</th>\n",
       "      <td>Stand Alone Villa</td>\n",
       "      <td>29000000</td>\n",
       "      <td>5.0</td>\n",
       "      <td>6.0</td>\n",
       "      <td>11.0</td>\n",
       "      <td>No</td>\n",
       "      <td>Unknown</td>\n",
       "      <td>Mivida</td>\n",
       "      <td>Cash</td>\n",
       "      <td>Ready to move</td>\n",
       "      <td>Core &amp; Shell</td>\n",
       "      <td>New Hut - El Tagamoa</td>\n",
       "    </tr>\n",
       "    <tr>\n",
       "      <th>3</th>\n",
       "      <td>Chalet</td>\n",
       "      <td>3000000</td>\n",
       "      <td>2.0</td>\n",
       "      <td>2.0</td>\n",
       "      <td>12.0</td>\n",
       "      <td>No</td>\n",
       "      <td>Ground</td>\n",
       "      <td>Marina 5</td>\n",
       "      <td>Cash</td>\n",
       "      <td>Ready to move</td>\n",
       "      <td>Finished</td>\n",
       "      <td>North Coast</td>\n",
       "    </tr>\n",
       "    <tr>\n",
       "      <th>4</th>\n",
       "      <td>Apartment</td>\n",
       "      <td>1128000</td>\n",
       "      <td>3.0</td>\n",
       "      <td>2.0</td>\n",
       "      <td>14.0</td>\n",
       "      <td>No</td>\n",
       "      <td>3</td>\n",
       "      <td>Beit Al Watan</td>\n",
       "      <td>Installment</td>\n",
       "      <td>soon</td>\n",
       "      <td>Unknown</td>\n",
       "      <td>New Hut - El Tagamoa</td>\n",
       "    </tr>\n",
       "  </tbody>\n",
       "</table>\n",
       "</div>"
      ],
      "text/plain": [
       "                Type     Price  Bedrooms  Bathrooms  Area Furnished    Level  \\\n",
       "0             Chalet     70000       2.0        2.0  10.0       Yes  Unknown   \n",
       "1          Apartment   1500000       3.0        3.0  10.0        No        4   \n",
       "2  Stand Alone Villa  29000000       5.0        6.0  11.0        No  Unknown   \n",
       "3             Chalet   3000000       2.0        2.0  12.0        No   Ground   \n",
       "4          Apartment   1128000       3.0        2.0  14.0        No        3   \n",
       "\n",
       "        Compound   Payment_Option  Delivery_Date Delivery_Term  \\\n",
       "0  Fanar De Luna             Cash  Ready to move      Finished   \n",
       "1        Unknown  Unknown Payment  Ready to move      Unknown    \n",
       "2         Mivida             Cash  Ready to move  Core & Shell   \n",
       "3       Marina 5             Cash  Ready to move      Finished   \n",
       "4  Beit Al Watan      Installment           soon      Unknown    \n",
       "\n",
       "                   City  \n",
       "0            Ain Sukhna  \n",
       "1  New Hut - El Tagamoa  \n",
       "2  New Hut - El Tagamoa  \n",
       "3           North Coast  \n",
       "4  New Hut - El Tagamoa  "
      ]
     },
     "execution_count": 136,
     "metadata": {},
     "output_type": "execute_result"
    }
   ],
   "source": [
    "## Show top 5 rows\n",
    "Data.head()"
   ]
  },
  {
   "cell_type": "markdown",
   "metadata": {},
   "source": [
    "## Data exploration"
   ]
  },
  {
   "cell_type": "code",
   "execution_count": 137,
   "metadata": {},
   "outputs": [
    {
     "name": "stdout",
     "output_type": "stream",
     "text": [
      "Correlation of Price with other numerical features:\n",
      "Area         0.655411\n",
      "Bathrooms    0.584470\n",
      "Bedrooms     0.505422\n",
      "Name: Price, dtype: float64\n"
     ]
    }
   ],
   "source": [
    "## Extract numerical features\n",
    "numerical_data = Data.select_dtypes(include='number')\n",
    "\n",
    "## Evaluate price correlation\n",
    "price_corr = numerical_data.corr()['Price'].sort_values(ascending=False).drop('Price')\n",
    "\n",
    "# Display the correlations\n",
    "print(\"Correlation of Price with other numerical features:\")\n",
    "print(price_corr)"
   ]
  },
  {
   "cell_type": "code",
   "execution_count": 138,
   "metadata": {},
   "outputs": [
    {
     "name": "stdout",
     "output_type": "stream",
     "text": [
      "                Type  Bedrooms\n",
      "0          Apartment  2.797507\n",
      "1             Chalet  2.364477\n",
      "2             Duplex  3.399535\n",
      "3          Penthouse  3.127376\n",
      "4  Stand Alone Villa  4.668922\n",
      "5   Standalone Villa  4.616145\n",
      "6             Studio  1.124000\n",
      "7         Town House  3.654510\n",
      "8         Twin House  4.027374\n",
      "9         Twin house  3.629400\n"
     ]
    }
   ],
   "source": [
    "## Check average bedroom size per housing type\n",
    "Type_bedrooms = Data.groupby('Type')['Bedrooms'].mean().reset_index()\n",
    "\n",
    "# Display the grouped results\n",
    "print(Type_bedrooms)"
   ]
  },
  {
   "cell_type": "code",
   "execution_count": 139,
   "metadata": {},
   "outputs": [
    {
     "data": {
      "text/plain": [
       "array(['Finished', 'Unknown ', 'Core & Shell', 'Not Finished',\n",
       "       'Semi Finished'], dtype=object)"
      ]
     },
     "execution_count": 139,
     "metadata": {},
     "output_type": "execute_result"
    }
   ],
   "source": [
    "## Check Delivery_Term unique values\n",
    "Data['Delivery_Term'].unique()"
   ]
  },
  {
   "cell_type": "code",
   "execution_count": 140,
   "metadata": {},
   "outputs": [
    {
     "name": "stdout",
     "output_type": "stream",
     "text": [
      "          Type  Bedrooms    mean_price\n",
      "0    Apartment       1.0  1.918335e+06\n",
      "1    Apartment       2.0  1.587841e+06\n",
      "2    Apartment       3.0  2.013230e+06\n",
      "3    Apartment       4.0  3.171255e+06\n",
      "4    Apartment       5.0  3.367359e+06\n",
      "..         ...       ...           ...\n",
      "73  Twin house       3.0  4.267520e+06\n",
      "74  Twin house       4.0  6.312660e+06\n",
      "75  Twin house       5.0  8.820929e+06\n",
      "76  Twin house       6.0  7.203018e+06\n",
      "77  Twin house       7.0  1.362082e+07\n",
      "\n",
      "[78 rows x 3 columns]\n"
     ]
    }
   ],
   "source": [
    "## Check average price for every bedroom-type grouping\n",
    "grouped_data = Data.groupby(['Type', 'Bedrooms']).agg(\n",
    "    mean_price=('Price', 'mean')\n",
    ").reset_index()\n",
    "\n",
    "# Display the grouped results\n",
    "print(grouped_data)"
   ]
  },
  {
   "cell_type": "code",
   "execution_count": 141,
   "metadata": {},
   "outputs": [
    {
     "data": {
      "text/plain": [
       "array(['Chalet', 'Apartment', 'Stand Alone Villa', 'Studio',\n",
       "       'Standalone Villa', 'Twin House', 'Town House', 'Duplex',\n",
       "       'Penthouse', 'Twin house'], dtype=object)"
      ]
     },
     "execution_count": 141,
     "metadata": {},
     "output_type": "execute_result"
    }
   ],
   "source": [
    "## Display unique Types\n",
    "Data['Type'].unique()"
   ]
  },
  {
   "cell_type": "code",
   "execution_count": 142,
   "metadata": {},
   "outputs": [
    {
     "data": {
      "text/plain": [
       "array(['Unknown', '4', 'Ground', '3', '2', '1', '9', '6', '10+', '7', '8',\n",
       "       '10', '5', 'Highest'], dtype=object)"
      ]
     },
     "execution_count": 142,
     "metadata": {},
     "output_type": "execute_result"
    }
   ],
   "source": [
    "## Display unique levels\n",
    "Data['Level'].unique()"
   ]
  },
  {
   "cell_type": "markdown",
   "metadata": {},
   "source": [
    "## Data Cleaning"
   ]
  },
  {
   "cell_type": "code",
   "execution_count": 143,
   "metadata": {},
   "outputs": [
    {
     "data": {
      "text/plain": [
       "Type                0\n",
       "Price               0\n",
       "Bedrooms          203\n",
       "Bathrooms         171\n",
       "Area              471\n",
       "Furnished           0\n",
       "Level               0\n",
       "Compound            0\n",
       "Payment_Option      0\n",
       "Delivery_Date       0\n",
       "Delivery_Term       0\n",
       "City                0\n",
       "dtype: int64"
      ]
     },
     "execution_count": 143,
     "metadata": {},
     "output_type": "execute_result"
    }
   ],
   "source": [
    "## Check if there are null or NaN values \n",
    "Data.isnull().sum()"
   ]
  },
  {
   "cell_type": "code",
   "execution_count": 144,
   "metadata": {},
   "outputs": [],
   "source": [
    "## Drop rows with null or NaN values\n",
    "Data.dropna(inplace=True)"
   ]
  },
  {
   "cell_type": "code",
   "execution_count": 145,
   "metadata": {},
   "outputs": [
    {
     "data": {
      "text/plain": [
       "Bedrooms     0\n",
       "Bathrooms    0\n",
       "Area         0\n",
       "Furnished    0\n",
       "dtype: int64"
      ]
     },
     "execution_count": 145,
     "metadata": {},
     "output_type": "execute_result"
    }
   ],
   "source": [
    "## Check for NaN/Null values\n",
    "Data[[\"Bedrooms\", \"Bathrooms\", \"Area\", \"Furnished\"]].isnull().sum()"
   ]
  },
  {
   "cell_type": "code",
   "execution_count": 146,
   "metadata": {},
   "outputs": [
    {
     "name": "stdout",
     "output_type": "stream",
     "text": [
      "Type                  0\n",
      "Price                 0\n",
      "Bedrooms              0\n",
      "Bathrooms             0\n",
      "Area                  0\n",
      "Furnished          8342\n",
      "Level              9796\n",
      "Compound          10698\n",
      "Payment_Option        0\n",
      "Delivery_Date      9878\n",
      "Delivery_Term         0\n",
      "City                  0\n",
      "dtype: int64\n"
     ]
    }
   ],
   "source": [
    "## Check the amount of 'Unknown' entries per column\n",
    "unknown_entries = (Data == 'Unknown').sum()\n",
    "print(unknown_entries)"
   ]
  },
  {
   "cell_type": "code",
   "execution_count": 147,
   "metadata": {},
   "outputs": [
    {
     "data": {
      "text/plain": [
       "array(['Finished', 'Unknown ', 'Core & Shell', 'Not Finished',\n",
       "       'Semi Finished'], dtype=object)"
      ]
     },
     "execution_count": 147,
     "metadata": {},
     "output_type": "execute_result"
    }
   ],
   "source": [
    "## Check Delivery term values\n",
    "Data['Delivery_Term'].unique()"
   ]
  },
  {
   "cell_type": "code",
   "execution_count": 148,
   "metadata": {},
   "outputs": [
    {
     "name": "stdout",
     "output_type": "stream",
     "text": [
      "Type                 0\n",
      "Price                0\n",
      "Bedrooms             0\n",
      "Bathrooms            0\n",
      "Area                 0\n",
      "Furnished            0\n",
      "Level                0\n",
      "Compound             0\n",
      "Payment_Option       0\n",
      "Delivery_Date        0\n",
      "Delivery_Term     4546\n",
      "City                 0\n",
      "dtype: int64\n"
     ]
    }
   ],
   "source": [
    "## Determine amount of unknowns in Delivery term\n",
    "unknown_entries = (Data == 'Unknown ').sum()\n",
    "print(unknown_entries)"
   ]
  },
  {
   "cell_type": "code",
   "execution_count": 149,
   "metadata": {},
   "outputs": [
    {
     "data": {
      "text/plain": [
       "False"
      ]
     },
     "execution_count": 149,
     "metadata": {},
     "output_type": "execute_result"
    }
   ],
   "source": [
    "Data[[\"Bedrooms\", 'Bathrooms', 'Area', 'Furnished']].isna().any().any()"
   ]
  },
  {
   "cell_type": "markdown",
   "metadata": {},
   "source": [
    "## Encoding"
   ]
  },
  {
   "cell_type": "markdown",
   "metadata": {},
   "source": [
    "The following encoding were used for initial testing and removed from the final testing. Refer to Discussion section."
   ]
  },
  {
   "cell_type": "code",
   "execution_count": 150,
   "metadata": {},
   "outputs": [],
   "source": [
    "# mode_value = Data['Furnished'].mode()[0]\n",
    "# print(mode_value)\n",
    "\n",
    "# Data['Furnished'] = Data['Furnished'].replace('Unknown', mode_value)\n",
    "\n",
    "# ## Encode Furnished\n",
    "# Data['Furnished'] = Data['Furnished'].map({'Yes': 1, 'No': 0})"
   ]
  },
  {
   "cell_type": "code",
   "execution_count": 151,
   "metadata": {},
   "outputs": [],
   "source": [
    "# # Create the custom mapping for the levels\n",
    "# level_mapping = {\n",
    "#     'Ground': 1,\n",
    "#     '1': 2, '2': 3, '3': 4, '4': 5, '5': 6, '6': 7, '7': 8, '8': 9, '9': 10,\n",
    "#     '10+': 11, 'Highest': 12\n",
    "# }\n",
    "\n",
    "# # Map values\n",
    "# Data['Level_encoded'] = Data['Level'].map(level_mapping)\n",
    "\n",
    "# # Replace 'Unknown' values with the mode of the encoded column\n",
    "# mode_value = Data['Level_encoded'].mode()[0]\n",
    "# Data['Level_encoded'] = Data['Level_encoded'].fillna(mode_value)"
   ]
  },
  {
   "cell_type": "code",
   "execution_count": 152,
   "metadata": {},
   "outputs": [],
   "source": [
    "# # Create mapping for delivery term\n",
    "# delivery_mapping = {\n",
    "#     'Finished': 4,\n",
    "#     'Semi Finished': 3,\n",
    "#     'Core & Shell': 2,\n",
    "#     'Not Finished': 1\n",
    "# }\n",
    "\n",
    "# # Apply the mapping\n",
    "# Data['Delivery_term_encoded'] = Data['Delivery_Term'].map(delivery_mapping)\n",
    "\n",
    "# # Replace 'Unknown ' values with the mode of the encoded column\n",
    "# Data['Delivery_term_encoded'] = Data['Delivery_term_encoded'].fillna(0)\n"
   ]
  },
  {
   "cell_type": "code",
   "execution_count": 153,
   "metadata": {},
   "outputs": [],
   "source": [
    "# Data['Delivery_term_encoded'].head()"
   ]
  },
  {
   "cell_type": "code",
   "execution_count": 154,
   "metadata": {},
   "outputs": [],
   "source": [
    "# Initialize Binary Encoder using Type column\n",
    "encoder = category_encoders.BinaryEncoder(cols=['Type'])\n",
    "\n",
    "# Apply binary encoding to the 'Type' column\n",
    "Data = encoder.fit_transform(Data)"
   ]
  },
  {
   "cell_type": "code",
   "execution_count": 155,
   "metadata": {},
   "outputs": [
    {
     "data": {
      "text/html": [
       "<div>\n",
       "<style scoped>\n",
       "    .dataframe tbody tr th:only-of-type {\n",
       "        vertical-align: middle;\n",
       "    }\n",
       "\n",
       "    .dataframe tbody tr th {\n",
       "        vertical-align: top;\n",
       "    }\n",
       "\n",
       "    .dataframe thead th {\n",
       "        text-align: right;\n",
       "    }\n",
       "</style>\n",
       "<table border=\"1\" class=\"dataframe\">\n",
       "  <thead>\n",
       "    <tr style=\"text-align: right;\">\n",
       "      <th></th>\n",
       "      <th>Type_0</th>\n",
       "      <th>Type_1</th>\n",
       "      <th>Type_2</th>\n",
       "      <th>Type_3</th>\n",
       "      <th>Price</th>\n",
       "      <th>Bedrooms</th>\n",
       "      <th>Bathrooms</th>\n",
       "      <th>Area</th>\n",
       "      <th>Furnished</th>\n",
       "      <th>Level</th>\n",
       "      <th>Compound</th>\n",
       "      <th>Payment_Option</th>\n",
       "      <th>Delivery_Date</th>\n",
       "      <th>Delivery_Term</th>\n",
       "      <th>City</th>\n",
       "    </tr>\n",
       "  </thead>\n",
       "  <tbody>\n",
       "    <tr>\n",
       "      <th>0</th>\n",
       "      <td>0</td>\n",
       "      <td>0</td>\n",
       "      <td>0</td>\n",
       "      <td>1</td>\n",
       "      <td>70000</td>\n",
       "      <td>2.0</td>\n",
       "      <td>2.0</td>\n",
       "      <td>10.0</td>\n",
       "      <td>Yes</td>\n",
       "      <td>Unknown</td>\n",
       "      <td>Fanar De Luna</td>\n",
       "      <td>Cash</td>\n",
       "      <td>Ready to move</td>\n",
       "      <td>Finished</td>\n",
       "      <td>Ain Sukhna</td>\n",
       "    </tr>\n",
       "    <tr>\n",
       "      <th>1</th>\n",
       "      <td>0</td>\n",
       "      <td>0</td>\n",
       "      <td>1</td>\n",
       "      <td>0</td>\n",
       "      <td>1500000</td>\n",
       "      <td>3.0</td>\n",
       "      <td>3.0</td>\n",
       "      <td>10.0</td>\n",
       "      <td>No</td>\n",
       "      <td>4</td>\n",
       "      <td>Unknown</td>\n",
       "      <td>Unknown Payment</td>\n",
       "      <td>Ready to move</td>\n",
       "      <td>Unknown</td>\n",
       "      <td>New Hut - El Tagamoa</td>\n",
       "    </tr>\n",
       "    <tr>\n",
       "      <th>2</th>\n",
       "      <td>0</td>\n",
       "      <td>0</td>\n",
       "      <td>1</td>\n",
       "      <td>1</td>\n",
       "      <td>29000000</td>\n",
       "      <td>5.0</td>\n",
       "      <td>6.0</td>\n",
       "      <td>11.0</td>\n",
       "      <td>No</td>\n",
       "      <td>Unknown</td>\n",
       "      <td>Mivida</td>\n",
       "      <td>Cash</td>\n",
       "      <td>Ready to move</td>\n",
       "      <td>Core &amp; Shell</td>\n",
       "      <td>New Hut - El Tagamoa</td>\n",
       "    </tr>\n",
       "    <tr>\n",
       "      <th>3</th>\n",
       "      <td>0</td>\n",
       "      <td>0</td>\n",
       "      <td>0</td>\n",
       "      <td>1</td>\n",
       "      <td>3000000</td>\n",
       "      <td>2.0</td>\n",
       "      <td>2.0</td>\n",
       "      <td>12.0</td>\n",
       "      <td>No</td>\n",
       "      <td>Ground</td>\n",
       "      <td>Marina 5</td>\n",
       "      <td>Cash</td>\n",
       "      <td>Ready to move</td>\n",
       "      <td>Finished</td>\n",
       "      <td>North Coast</td>\n",
       "    </tr>\n",
       "    <tr>\n",
       "      <th>4</th>\n",
       "      <td>0</td>\n",
       "      <td>0</td>\n",
       "      <td>1</td>\n",
       "      <td>0</td>\n",
       "      <td>1128000</td>\n",
       "      <td>3.0</td>\n",
       "      <td>2.0</td>\n",
       "      <td>14.0</td>\n",
       "      <td>No</td>\n",
       "      <td>3</td>\n",
       "      <td>Beit Al Watan</td>\n",
       "      <td>Installment</td>\n",
       "      <td>soon</td>\n",
       "      <td>Unknown</td>\n",
       "      <td>New Hut - El Tagamoa</td>\n",
       "    </tr>\n",
       "  </tbody>\n",
       "</table>\n",
       "</div>"
      ],
      "text/plain": [
       "   Type_0  Type_1  Type_2  Type_3     Price  Bedrooms  Bathrooms  Area  \\\n",
       "0       0       0       0       1     70000       2.0        2.0  10.0   \n",
       "1       0       0       1       0   1500000       3.0        3.0  10.0   \n",
       "2       0       0       1       1  29000000       5.0        6.0  11.0   \n",
       "3       0       0       0       1   3000000       2.0        2.0  12.0   \n",
       "4       0       0       1       0   1128000       3.0        2.0  14.0   \n",
       "\n",
       "  Furnished    Level       Compound   Payment_Option  Delivery_Date  \\\n",
       "0       Yes  Unknown  Fanar De Luna             Cash  Ready to move   \n",
       "1        No        4        Unknown  Unknown Payment  Ready to move   \n",
       "2        No  Unknown         Mivida             Cash  Ready to move   \n",
       "3        No   Ground       Marina 5             Cash  Ready to move   \n",
       "4        No        3  Beit Al Watan      Installment           soon   \n",
       "\n",
       "  Delivery_Term                  City  \n",
       "0      Finished            Ain Sukhna  \n",
       "1      Unknown   New Hut - El Tagamoa  \n",
       "2  Core & Shell  New Hut - El Tagamoa  \n",
       "3      Finished           North Coast  \n",
       "4      Unknown   New Hut - El Tagamoa  "
      ]
     },
     "execution_count": 155,
     "metadata": {},
     "output_type": "execute_result"
    }
   ],
   "source": [
    "Data.head()"
   ]
  },
  {
   "cell_type": "markdown",
   "metadata": {},
   "source": [
    "## Test - Training split"
   ]
  },
  {
   "cell_type": "code",
   "execution_count": 156,
   "metadata": {},
   "outputs": [],
   "source": [
    "## Assign target variable\n",
    "Target_variable = Data['Price']\n",
    "\n",
    "## List of usable features\n",
    "Features_list = ['Bedrooms', 'Bathrooms', 'Area', 'Type_0', 'Type_1', 'Type_2','Type_3']\n",
    "\n",
    "## Assign features\n",
    "Features = Data[Features_list]"
   ]
  },
  {
   "cell_type": "code",
   "execution_count": 157,
   "metadata": {},
   "outputs": [
    {
     "name": "stdout",
     "output_type": "stream",
     "text": [
      "       Bedrooms  Bathrooms   Area  Type_0  Type_1  Type_2  Type_3\n",
      "0           2.0        2.0   10.0       0       0       0       1\n",
      "1           3.0        3.0   10.0       0       0       1       0\n",
      "2           5.0        6.0   11.0       0       0       1       1\n",
      "3           2.0        2.0   12.0       0       0       0       1\n",
      "4           3.0        2.0   14.0       0       0       1       0\n",
      "...         ...        ...    ...     ...     ...     ...     ...\n",
      "26845       5.0        4.0  990.0       0       0       1       1\n",
      "26846       5.0        4.0  990.0       0       0       1       1\n",
      "26847       6.0        4.0  990.0       0       1       0       1\n",
      "26848       5.0        5.0  990.0       0       0       1       1\n",
      "26849       6.0        5.0  995.0       0       1       0       1\n",
      "\n",
      "[26693 rows x 7 columns]\n"
     ]
    }
   ],
   "source": [
    "print(Features)"
   ]
  },
  {
   "cell_type": "code",
   "execution_count": 158,
   "metadata": {},
   "outputs": [],
   "source": [
    "# Split the data into training and test data\n",
    "Features_train, Features_test, Target_train, Target_test = train_test_split(Features, Target_variable,train_size=0.8, test_size = 0.2, random_state=1)\n"
   ]
  },
  {
   "cell_type": "code",
   "execution_count": 159,
   "metadata": {},
   "outputs": [],
   "source": [
    "## Scale features for linear regression\n",
    "\n",
    "# Initialize the scaler\n",
    "scaler = StandardScaler()\n",
    "\n",
    "# Fit and transform the data\n",
    "Features_train_scaled = scaler.fit_transform(Features_train)\n",
    "\n",
    "Features_test_scaled = scaler.fit_transform(Features_test)"
   ]
  },
  {
   "cell_type": "markdown",
   "metadata": {},
   "source": [
    "## Model"
   ]
  },
  {
   "cell_type": "code",
   "execution_count": 160,
   "metadata": {},
   "outputs": [
    {
     "data": {
      "text/html": [
       "<style>#sk-container-id-7 {color: black;background-color: white;}#sk-container-id-7 pre{padding: 0;}#sk-container-id-7 div.sk-toggleable {background-color: white;}#sk-container-id-7 label.sk-toggleable__label {cursor: pointer;display: block;width: 100%;margin-bottom: 0;padding: 0.3em;box-sizing: border-box;text-align: center;}#sk-container-id-7 label.sk-toggleable__label-arrow:before {content: \"▸\";float: left;margin-right: 0.25em;color: #696969;}#sk-container-id-7 label.sk-toggleable__label-arrow:hover:before {color: black;}#sk-container-id-7 div.sk-estimator:hover label.sk-toggleable__label-arrow:before {color: black;}#sk-container-id-7 div.sk-toggleable__content {max-height: 0;max-width: 0;overflow: hidden;text-align: left;background-color: #f0f8ff;}#sk-container-id-7 div.sk-toggleable__content pre {margin: 0.2em;color: black;border-radius: 0.25em;background-color: #f0f8ff;}#sk-container-id-7 input.sk-toggleable__control:checked~div.sk-toggleable__content {max-height: 200px;max-width: 100%;overflow: auto;}#sk-container-id-7 input.sk-toggleable__control:checked~label.sk-toggleable__label-arrow:before {content: \"▾\";}#sk-container-id-7 div.sk-estimator input.sk-toggleable__control:checked~label.sk-toggleable__label {background-color: #d4ebff;}#sk-container-id-7 div.sk-label input.sk-toggleable__control:checked~label.sk-toggleable__label {background-color: #d4ebff;}#sk-container-id-7 input.sk-hidden--visually {border: 0;clip: rect(1px 1px 1px 1px);clip: rect(1px, 1px, 1px, 1px);height: 1px;margin: -1px;overflow: hidden;padding: 0;position: absolute;width: 1px;}#sk-container-id-7 div.sk-estimator {font-family: monospace;background-color: #f0f8ff;border: 1px dotted black;border-radius: 0.25em;box-sizing: border-box;margin-bottom: 0.5em;}#sk-container-id-7 div.sk-estimator:hover {background-color: #d4ebff;}#sk-container-id-7 div.sk-parallel-item::after {content: \"\";width: 100%;border-bottom: 1px solid gray;flex-grow: 1;}#sk-container-id-7 div.sk-label:hover label.sk-toggleable__label {background-color: #d4ebff;}#sk-container-id-7 div.sk-serial::before {content: \"\";position: absolute;border-left: 1px solid gray;box-sizing: border-box;top: 0;bottom: 0;left: 50%;z-index: 0;}#sk-container-id-7 div.sk-serial {display: flex;flex-direction: column;align-items: center;background-color: white;padding-right: 0.2em;padding-left: 0.2em;position: relative;}#sk-container-id-7 div.sk-item {position: relative;z-index: 1;}#sk-container-id-7 div.sk-parallel {display: flex;align-items: stretch;justify-content: center;background-color: white;position: relative;}#sk-container-id-7 div.sk-item::before, #sk-container-id-7 div.sk-parallel-item::before {content: \"\";position: absolute;border-left: 1px solid gray;box-sizing: border-box;top: 0;bottom: 0;left: 50%;z-index: -1;}#sk-container-id-7 div.sk-parallel-item {display: flex;flex-direction: column;z-index: 1;position: relative;background-color: white;}#sk-container-id-7 div.sk-parallel-item:first-child::after {align-self: flex-end;width: 50%;}#sk-container-id-7 div.sk-parallel-item:last-child::after {align-self: flex-start;width: 50%;}#sk-container-id-7 div.sk-parallel-item:only-child::after {width: 0;}#sk-container-id-7 div.sk-dashed-wrapped {border: 1px dashed gray;margin: 0 0.4em 0.5em 0.4em;box-sizing: border-box;padding-bottom: 0.4em;background-color: white;}#sk-container-id-7 div.sk-label label {font-family: monospace;font-weight: bold;display: inline-block;line-height: 1.2em;}#sk-container-id-7 div.sk-label-container {text-align: center;}#sk-container-id-7 div.sk-container {/* jupyter's `normalize.less` sets `[hidden] { display: none; }` but bootstrap.min.css set `[hidden] { display: none !important; }` so we also need the `!important` here to be able to override the default hidden behavior on the sphinx rendered scikit-learn.org. See: https://github.com/scikit-learn/scikit-learn/issues/21755 */display: inline-block !important;position: relative;}#sk-container-id-7 div.sk-text-repr-fallback {display: none;}</style><div id=\"sk-container-id-7\" class=\"sk-top-container\"><div class=\"sk-text-repr-fallback\"><pre>LinearRegression()</pre><b>In a Jupyter environment, please rerun this cell to show the HTML representation or trust the notebook. <br />On GitHub, the HTML representation is unable to render, please try loading this page with nbviewer.org.</b></div><div class=\"sk-container\" hidden><div class=\"sk-item\"><div class=\"sk-estimator sk-toggleable\"><input class=\"sk-toggleable__control sk-hidden--visually\" id=\"sk-estimator-id-7\" type=\"checkbox\" checked><label for=\"sk-estimator-id-7\" class=\"sk-toggleable__label sk-toggleable__label-arrow\">LinearRegression</label><div class=\"sk-toggleable__content\"><pre>LinearRegression()</pre></div></div></div></div></div>"
      ],
      "text/plain": [
       "LinearRegression()"
      ]
     },
     "execution_count": 160,
     "metadata": {},
     "output_type": "execute_result"
    }
   ],
   "source": [
    "## Initialise linear model and fit scaled data\n",
    "model = LinearRegression()\n",
    "model.fit(Features_train_scaled, Target_train)"
   ]
  },
  {
   "cell_type": "code",
   "execution_count": 161,
   "metadata": {},
   "outputs": [
    {
     "name": "stdout",
     "output_type": "stream",
     "text": [
      "Mean Absolute Error (MAE): 2281025.9648602563\n",
      "Mean Squared Error (MSE): 13642673537373.146\n",
      "R-squared (R²): 0.44967883777930895\n"
     ]
    }
   ],
   "source": [
    "# Evaluate test predictions\n",
    "Target_predicted = model.predict(Features_test_scaled)\n",
    "\n",
    "# Calculate evaluation metrics\n",
    "mae = mean_absolute_error(Target_test, Target_predicted)\n",
    "mse = mean_squared_error(Target_test, Target_predicted)\n",
    "rmse = np.sqrt(mse)\n",
    "r2 = r2_score(Target_test, Target_predicted)\n",
    "\n",
    "print(\"Mean Absolute Error (MAE):\", mae)\n",
    "print(\"Mean Squared Error (MSE):\", mse)\n",
    "print(\"R-squared (R²):\", r2)"
   ]
  },
  {
   "cell_type": "code",
   "execution_count": 162,
   "metadata": {},
   "outputs": [
    {
     "name": "stdout",
     "output_type": "stream",
     "text": [
      "84.1861095874359\n"
     ]
    }
   ],
   "source": [
    "average_price = Data['Price'].mean()\n",
    "percentage_RMSE = (rmse/average_price)*100\n",
    "print(percentage_RMSE)"
   ]
  },
  {
   "cell_type": "markdown",
   "metadata": {},
   "source": [
    "## XGBOOST model"
   ]
  },
  {
   "cell_type": "code",
   "execution_count": 163,
   "metadata": {},
   "outputs": [
    {
     "data": {
      "text/html": [
       "<style>#sk-container-id-8 {color: black;background-color: white;}#sk-container-id-8 pre{padding: 0;}#sk-container-id-8 div.sk-toggleable {background-color: white;}#sk-container-id-8 label.sk-toggleable__label {cursor: pointer;display: block;width: 100%;margin-bottom: 0;padding: 0.3em;box-sizing: border-box;text-align: center;}#sk-container-id-8 label.sk-toggleable__label-arrow:before {content: \"▸\";float: left;margin-right: 0.25em;color: #696969;}#sk-container-id-8 label.sk-toggleable__label-arrow:hover:before {color: black;}#sk-container-id-8 div.sk-estimator:hover label.sk-toggleable__label-arrow:before {color: black;}#sk-container-id-8 div.sk-toggleable__content {max-height: 0;max-width: 0;overflow: hidden;text-align: left;background-color: #f0f8ff;}#sk-container-id-8 div.sk-toggleable__content pre {margin: 0.2em;color: black;border-radius: 0.25em;background-color: #f0f8ff;}#sk-container-id-8 input.sk-toggleable__control:checked~div.sk-toggleable__content {max-height: 200px;max-width: 100%;overflow: auto;}#sk-container-id-8 input.sk-toggleable__control:checked~label.sk-toggleable__label-arrow:before {content: \"▾\";}#sk-container-id-8 div.sk-estimator input.sk-toggleable__control:checked~label.sk-toggleable__label {background-color: #d4ebff;}#sk-container-id-8 div.sk-label input.sk-toggleable__control:checked~label.sk-toggleable__label {background-color: #d4ebff;}#sk-container-id-8 input.sk-hidden--visually {border: 0;clip: rect(1px 1px 1px 1px);clip: rect(1px, 1px, 1px, 1px);height: 1px;margin: -1px;overflow: hidden;padding: 0;position: absolute;width: 1px;}#sk-container-id-8 div.sk-estimator {font-family: monospace;background-color: #f0f8ff;border: 1px dotted black;border-radius: 0.25em;box-sizing: border-box;margin-bottom: 0.5em;}#sk-container-id-8 div.sk-estimator:hover {background-color: #d4ebff;}#sk-container-id-8 div.sk-parallel-item::after {content: \"\";width: 100%;border-bottom: 1px solid gray;flex-grow: 1;}#sk-container-id-8 div.sk-label:hover label.sk-toggleable__label {background-color: #d4ebff;}#sk-container-id-8 div.sk-serial::before {content: \"\";position: absolute;border-left: 1px solid gray;box-sizing: border-box;top: 0;bottom: 0;left: 50%;z-index: 0;}#sk-container-id-8 div.sk-serial {display: flex;flex-direction: column;align-items: center;background-color: white;padding-right: 0.2em;padding-left: 0.2em;position: relative;}#sk-container-id-8 div.sk-item {position: relative;z-index: 1;}#sk-container-id-8 div.sk-parallel {display: flex;align-items: stretch;justify-content: center;background-color: white;position: relative;}#sk-container-id-8 div.sk-item::before, #sk-container-id-8 div.sk-parallel-item::before {content: \"\";position: absolute;border-left: 1px solid gray;box-sizing: border-box;top: 0;bottom: 0;left: 50%;z-index: -1;}#sk-container-id-8 div.sk-parallel-item {display: flex;flex-direction: column;z-index: 1;position: relative;background-color: white;}#sk-container-id-8 div.sk-parallel-item:first-child::after {align-self: flex-end;width: 50%;}#sk-container-id-8 div.sk-parallel-item:last-child::after {align-self: flex-start;width: 50%;}#sk-container-id-8 div.sk-parallel-item:only-child::after {width: 0;}#sk-container-id-8 div.sk-dashed-wrapped {border: 1px dashed gray;margin: 0 0.4em 0.5em 0.4em;box-sizing: border-box;padding-bottom: 0.4em;background-color: white;}#sk-container-id-8 div.sk-label label {font-family: monospace;font-weight: bold;display: inline-block;line-height: 1.2em;}#sk-container-id-8 div.sk-label-container {text-align: center;}#sk-container-id-8 div.sk-container {/* jupyter's `normalize.less` sets `[hidden] { display: none; }` but bootstrap.min.css set `[hidden] { display: none !important; }` so we also need the `!important` here to be able to override the default hidden behavior on the sphinx rendered scikit-learn.org. See: https://github.com/scikit-learn/scikit-learn/issues/21755 */display: inline-block !important;position: relative;}#sk-container-id-8 div.sk-text-repr-fallback {display: none;}</style><div id=\"sk-container-id-8\" class=\"sk-top-container\"><div class=\"sk-text-repr-fallback\"><pre>XGBRegressor(base_score=None, booster=None, callbacks=None,\n",
       "             colsample_bylevel=None, colsample_bynode=None,\n",
       "             colsample_bytree=None, device=None, early_stopping_rounds=None,\n",
       "             enable_categorical=False,\n",
       "             eval_metric=&lt;function mean_absolute_error at 0x7fce1c99e9e0&gt;,\n",
       "             feature_types=None, gamma=None, grow_policy=None,\n",
       "             importance_type=None, interaction_constraints=None,\n",
       "             learning_rate=0.05, max_bin=None, max_cat_threshold=None,\n",
       "             max_cat_to_onehot=None, max_delta_step=None, max_depth=None,\n",
       "             max_leaves=None, min_child_weight=None, missing=nan,\n",
       "             monotone_constraints=None, multi_strategy=None, n_estimators=50,\n",
       "             n_jobs=None, num_parallel_tree=None, random_state=None, ...)</pre><b>In a Jupyter environment, please rerun this cell to show the HTML representation or trust the notebook. <br />On GitHub, the HTML representation is unable to render, please try loading this page with nbviewer.org.</b></div><div class=\"sk-container\" hidden><div class=\"sk-item\"><div class=\"sk-estimator sk-toggleable\"><input class=\"sk-toggleable__control sk-hidden--visually\" id=\"sk-estimator-id-8\" type=\"checkbox\" checked><label for=\"sk-estimator-id-8\" class=\"sk-toggleable__label sk-toggleable__label-arrow\">XGBRegressor</label><div class=\"sk-toggleable__content\"><pre>XGBRegressor(base_score=None, booster=None, callbacks=None,\n",
       "             colsample_bylevel=None, colsample_bynode=None,\n",
       "             colsample_bytree=None, device=None, early_stopping_rounds=None,\n",
       "             enable_categorical=False,\n",
       "             eval_metric=&lt;function mean_absolute_error at 0x7fce1c99e9e0&gt;,\n",
       "             feature_types=None, gamma=None, grow_policy=None,\n",
       "             importance_type=None, interaction_constraints=None,\n",
       "             learning_rate=0.05, max_bin=None, max_cat_threshold=None,\n",
       "             max_cat_to_onehot=None, max_delta_step=None, max_depth=None,\n",
       "             max_leaves=None, min_child_weight=None, missing=nan,\n",
       "             monotone_constraints=None, multi_strategy=None, n_estimators=50,\n",
       "             n_jobs=None, num_parallel_tree=None, random_state=None, ...)</pre></div></div></div></div></div>"
      ],
      "text/plain": [
       "XGBRegressor(base_score=None, booster=None, callbacks=None,\n",
       "             colsample_bylevel=None, colsample_bynode=None,\n",
       "             colsample_bytree=None, device=None, early_stopping_rounds=None,\n",
       "             enable_categorical=False,\n",
       "             eval_metric=<function mean_absolute_error at 0x7fce1c99e9e0>,\n",
       "             feature_types=None, gamma=None, grow_policy=None,\n",
       "             importance_type=None, interaction_constraints=None,\n",
       "             learning_rate=0.05, max_bin=None, max_cat_threshold=None,\n",
       "             max_cat_to_onehot=None, max_delta_step=None, max_depth=None,\n",
       "             max_leaves=None, min_child_weight=None, missing=nan,\n",
       "             monotone_constraints=None, multi_strategy=None, n_estimators=50,\n",
       "             n_jobs=None, num_parallel_tree=None, random_state=None, ...)"
      ]
     },
     "execution_count": 163,
     "metadata": {},
     "output_type": "execute_result"
    }
   ],
   "source": [
    "# Initialize and train the XGBoost model\n",
    "XGBoost_model = XGBRegressor(eval_metric=mean_absolute_error, n_estimators=50, learning_rate=0.05)\n",
    "XGBoost_model.fit(Features_train, Target_train)"
   ]
  },
  {
   "cell_type": "code",
   "execution_count": 164,
   "metadata": {},
   "outputs": [
    {
     "name": "stdout",
     "output_type": "stream",
     "text": [
      "Mean Absolute Error (MAE): 2096481.4176578012\n",
      "Mean Squared Error (MSE): 12640119807563.408\n",
      "Root Mean Squared Error (RMSE): 3555294.616141313\n",
      "R-squared (R²): 0.4901200703768762\n"
     ]
    }
   ],
   "source": [
    "# Make predictions\n",
    "Target_predicted = XGBoost_model.predict(Features_test)\n",
    "# Calculate evaluation metrics\n",
    "mae = mean_absolute_error(Target_test, Target_predicted)\n",
    "mse = mean_squared_error(Target_test, Target_predicted)\n",
    "rmse = np.sqrt(mse)\n",
    "r2 = r2_score(Target_test, Target_predicted)\n",
    "\n",
    "print(\"Mean Absolute Error (MAE):\", mae)\n",
    "print(\"Mean Squared Error (MSE):\", mse)\n",
    "print(\"Root Mean Squared Error (RMSE):\", rmse)\n",
    "print(\"R-squared (R²):\", r2)"
   ]
  },
  {
   "cell_type": "code",
   "execution_count": 165,
   "metadata": {},
   "outputs": [
    {
     "name": "stdout",
     "output_type": "stream",
     "text": [
      "81.0338162206344\n"
     ]
    }
   ],
   "source": [
    "percentage_RMSE = (rmse/average_price)*100\n",
    "print(percentage_RMSE)"
   ]
  },
  {
   "cell_type": "markdown",
   "metadata": {},
   "source": [
    "## Discussion"
   ]
  },
  {
   "cell_type": "markdown",
   "metadata": {},
   "source": [
    "The following are points observed from the raw data:\n",
    "\n",
    "- From the correlation matrix values we can see that Area, amount of Bedrooms and Bathrooms have an average positive correlation with some linearity\n",
    "- There is a relationship in Price with respect to house Type when looking at some grouped values\n",
    "\n",
    "Assumptions and procedures made for modelling:\n",
    "- There are null and NaN values in the data and these were removed from the dataset.\n",
    "- Type was binary encoded for representation, this was an optimisation to reduce the feature set and sparsity in comparison to one hot encoding\n",
    "- Level, Furnished and Delivery Term have a large amount of Unknown parameters. These features were, resultantly, dropped. Replacing these values with the mean/mode could result in more bias towards that category. Removing unknown rows could be possible if there was more data.\n",
    "- Scaling was performed for the linear regression model to reduce bias on Area feature which has larger values in comparison to the other features.\n",
    "- Standard 80:20 Training to Test data split was performed.\n",
    "\n",
    "\n",
    "Model performance:\n",
    "- The linear regression performed slightly worse with respect to performance metrics (r squared and Mean Squared Error (MSE)) in comparison to the XGBoost model. However, the improvement \n",
    "in using XGBoost isn't significant.\n",
    "- Root mean squared error values for both models are at an average of 82% of the average price which is quite poor for modelling prices. Two models performing poorly could point towards \n",
    "improving the dataset itself for model performance. \n",
    "- Adding features like level, furnished and delivery term could improve accuracy with more data such that we can drop unknown values. Preliminary testing with encoding these features only showed a 1% improvement which isn't worth the extra dimensionality. It also proves replacing unknown values with the mode isn't a fair assumption.\n",
    "\n",
    "\n",
    "\n",
    "\n",
    "\n"
   ]
  }
 ],
 "metadata": {
  "kernelspec": {
   "display_name": "DataScience",
   "language": "python",
   "name": "python3"
  },
  "language_info": {
   "codemirror_mode": {
    "name": "ipython",
    "version": 3
   },
   "file_extension": ".py",
   "mimetype": "text/x-python",
   "name": "python",
   "nbconvert_exporter": "python",
   "pygments_lexer": "ipython3",
   "version": "3.10.5"
  }
 },
 "nbformat": 4,
 "nbformat_minor": 2
}
